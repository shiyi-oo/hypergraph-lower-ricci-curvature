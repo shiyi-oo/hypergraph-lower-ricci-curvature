{
 "cells": [
  {
   "cell_type": "markdown",
   "id": "3db9b9cc-5c17-4e52-9e89-5e133504edb7",
   "metadata": {},
   "source": [
    "# Contact-high-school"
   ]
  },
  {
   "cell_type": "code",
   "execution_count": 1,
   "id": "af205582-448e-4938-b131-d1e1de08263d",
   "metadata": {},
   "outputs": [],
   "source": [
    "import sys\n",
    "import os\n",
    "sys.path.append(os.path.abspath('/work/users/s/h/shiyi/hypergraph_with_curvature/code/src'))\n",
    "from util import *"
   ]
  },
  {
   "cell_type": "code",
   "execution_count": 2,
   "id": "02a1dc3a-bd5b-4833-9d3a-86673d9009d9",
   "metadata": {
    "tags": []
   },
   "outputs": [],
   "source": [
    "with open('../../data/raw/contact-high-school/hyperedges-contact-high-school.txt', 'r') as f:\n",
    "    hyperedges = [list(map(int, line.strip().split(','))) for line in f]\n",
    "    \n",
    "with open('../../data/raw/contact-high-school/label-names-contact-high-school.txt', 'r') as f:\n",
    "    node_lables = [line.strip() for line in f] \n",
    "    # ['2BIO1', '2BIO2', '2BIO3', 'MP*1', 'MP*2', 'PSI*', 'PC', 'PC*', 'MP']\n",
    "\n",
    "with open('../../data/raw/contact-high-school/node-labels-contact-high-school.txt', 'r') as f:\n",
    "    nodLabelIdx = [int(line.strip()) for line in f]\n",
    "    # unique elements: array([1, 2, 3, 4, 5, 6, 7, 8, 9])\n",
    "\n",
    "nodLabels = [node_lables[idx-1] for idx in nodLabelIdx]"
   ]
  },
  {
   "cell_type": "code",
   "execution_count": 3,
   "id": "5f573a16-1eaa-4f27-93e9-dc8ee51089c6",
   "metadata": {},
   "outputs": [
    {
     "name": "stdout",
     "output_type": "stream",
     "text": [
      "# of edges: 7818\n",
      "# of nodes: 327\n",
      "node degree: - average: 55.6; sd:27.1\n",
      "edge degree: - average 2.3; sd: 0.5\n",
      "max edge degree: 5\n",
      "percent of edges with degree 2: 70.3%\n"
     ]
    }
   ],
   "source": [
    "get_summary_stat(hyperedges)"
   ]
  },
  {
   "cell_type": "code",
   "execution_count": null,
   "id": "ccd37000-d0a6-4911-968a-859a1bbb9e82",
   "metadata": {},
   "outputs": [],
   "source": [
    "# save as tsv for HORC computation\n",
    "with open('./derived_data/hyperedges.tsv', 'w') as f:\n",
    "    for edge in hyperedges:\n",
    "        f.write('\\t'.join(map(str, edge)) + '\\n')"
   ]
  }
 ],
 "metadata": {
  "kernelspec": {
   "display_name": "Python 3 (ipykernel)",
   "language": "python",
   "name": "python3"
  },
  "language_info": {
   "codemirror_mode": {
    "name": "ipython",
    "version": 3
   },
   "file_extension": ".py",
   "mimetype": "text/x-python",
   "name": "python",
   "nbconvert_exporter": "python",
   "pygments_lexer": "ipython3",
   "version": "3.10.9"
  }
 },
 "nbformat": 4,
 "nbformat_minor": 5
}
