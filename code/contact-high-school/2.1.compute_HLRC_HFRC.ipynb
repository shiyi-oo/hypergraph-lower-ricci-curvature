{
 "cells": [
  {
   "cell_type": "markdown",
   "id": "b1d0508f-5811-4981-aa45-5b6994abcd9f",
   "metadata": {},
   "source": [
    "# Contact-High-School"
   ]
  },
  {
   "cell_type": "code",
   "execution_count": 1,
   "id": "86f6e88a-06ca-417f-a18c-ff4875763c5e",
   "metadata": {},
   "outputs": [],
   "source": [
    "with open('../../data/raw/contact-high-school/hyperedges-contact-high-school.txt', 'r') as f:\n",
    "    hyperedges = [list(map(int, line.strip().split(','))) for line in f]\n",
    "\n",
    "with open('../../data/raw/contact-high-school/label-names-contact-high-school.txt', 'r') as f:\n",
    "    node_lables = [line.strip() for line in f] \n",
    "    # ['2BIO1', '2BIO2', '2BIO3', 'MP*1', 'MP*2', 'PSI*', 'PC', 'PC*', 'MP']\n",
    "\n",
    "with open('../../data/raw/contact-high-school/node-labels-contact-high-school.txt', 'r') as f:\n",
    "    nodLabelIdx = [int(line.strip()) for line in f]\n",
    "    # unique elements: array([1, 2, 3, 4, 5, 6, 7, 8, 9])\n",
    "\n",
    "nodLabels = [node_lables[idx-1] for idx in nodLabelIdx]"
   ]
  },
  {
   "cell_type": "code",
   "execution_count": 2,
   "id": "577bdada-01f1-4c7e-89cb-a1eb45ec133e",
   "metadata": {},
   "outputs": [],
   "source": [
    "import sys\n",
    "import os\n",
    "sys.path.append(os.path.abspath('/work/users/s/h/shiyi/hypergraph_with_curvature/code/src'))\n",
    "from hlrc import compute_hlrc\n",
    "from hfrc import compute_hfrc\n",
    "from util import *"
   ]
  },
  {
   "cell_type": "markdown",
   "id": "c453202b-10a4-4328-88b1-daad22ec4c8b",
   "metadata": {},
   "source": [
    "## computation time"
   ]
  },
  {
   "cell_type": "code",
   "execution_count": 5,
   "id": "2e61e4d4-084f-4f19-bcdd-773e5c8fadf6",
   "metadata": {},
   "outputs": [
    {
     "name": "stdout",
     "output_type": "stream",
     "text": [
      "39.8 ms ± 105 µs per loop (mean ± std. dev. of 7 runs, 10 loops each)\n",
      "5.88 ms ± 12 µs per loop (mean ± std. dev. of 7 runs, 100 loops each)\n"
     ]
    }
   ],
   "source": [
    "%timeit compute_hlrc(hyperedges)\n",
    "\n",
    "%timeit compute_hfrc(hyperedges)"
   ]
  },
  {
   "cell_type": "markdown",
   "id": "f5e80ed1-fd8f-47f6-800e-ff2f7380c544",
   "metadata": {},
   "source": [
    "## compute HLRC and HFRC"
   ]
  },
  {
   "cell_type": "code",
   "execution_count": 4,
   "id": "2dbc9b7e-149d-4e60-9cbd-9b73ee746e12",
   "metadata": {},
   "outputs": [],
   "source": [
    "hlrc = compute_hlrc(hyperedges)\n",
    "hfrc = compute_hfrc(hyperedges)"
   ]
  },
  {
   "cell_type": "code",
   "execution_count": 6,
   "id": "0f9464ba-bb8c-48c9-82d6-edc528dca789",
   "metadata": {},
   "outputs": [
    {
     "data": {
      "text/html": [
       "<div>\n",
       "<style scoped>\n",
       "    .dataframe tbody tr th:only-of-type {\n",
       "        vertical-align: middle;\n",
       "    }\n",
       "\n",
       "    .dataframe tbody tr th {\n",
       "        vertical-align: top;\n",
       "    }\n",
       "\n",
       "    .dataframe thead th {\n",
       "        text-align: right;\n",
       "    }\n",
       "</style>\n",
       "<table border=\"1\" class=\"dataframe\">\n",
       "  <thead>\n",
       "    <tr style=\"text-align: right;\">\n",
       "      <th></th>\n",
       "      <th>edges</th>\n",
       "      <th>nodLabels</th>\n",
       "      <th>hlrc</th>\n",
       "      <th>hfrc</th>\n",
       "    </tr>\n",
       "  </thead>\n",
       "  <tbody>\n",
       "    <tr>\n",
       "      <th>0</th>\n",
       "      <td>[205, 258, 292]</td>\n",
       "      <td>[PC, PC, PC]</td>\n",
       "      <td>0.343770</td>\n",
       "      <td>-273</td>\n",
       "    </tr>\n",
       "    <tr>\n",
       "      <th>1</th>\n",
       "      <td>[3, 7, 42, 47]</td>\n",
       "      <td>[2BIO3, 2BIO3, 2BIO3, 2BIO3]</td>\n",
       "      <td>-0.101521</td>\n",
       "      <td>-218</td>\n",
       "    </tr>\n",
       "    <tr>\n",
       "      <th>2</th>\n",
       "      <td>[65, 117]</td>\n",
       "      <td>[2BIO3, 2BIO3]</td>\n",
       "      <td>0.271318</td>\n",
       "      <td>-127</td>\n",
       "    </tr>\n",
       "    <tr>\n",
       "      <th>3</th>\n",
       "      <td>[292, 303]</td>\n",
       "      <td>[PC, PC]</td>\n",
       "      <td>0.296339</td>\n",
       "      <td>-145</td>\n",
       "    </tr>\n",
       "    <tr>\n",
       "      <th>4</th>\n",
       "      <td>[9, 269]</td>\n",
       "      <td>[PC, PC]</td>\n",
       "      <td>0.204074</td>\n",
       "      <td>-185</td>\n",
       "    </tr>\n",
       "  </tbody>\n",
       "</table>\n",
       "</div>"
      ],
      "text/plain": [
       "             edges                     nodLabels      hlrc  hfrc\n",
       "0  [205, 258, 292]                  [PC, PC, PC]  0.343770  -273\n",
       "1   [3, 7, 42, 47]  [2BIO3, 2BIO3, 2BIO3, 2BIO3] -0.101521  -218\n",
       "2        [65, 117]                [2BIO3, 2BIO3]  0.271318  -127\n",
       "3       [292, 303]                      [PC, PC]  0.296339  -145\n",
       "4         [9, 269]                      [PC, PC]  0.204074  -185"
      ]
     },
     "execution_count": 6,
     "metadata": {},
     "output_type": "execute_result"
    }
   ],
   "source": [
    "contact_high  = pd.DataFrame()\n",
    "contact_high[\"edges\"] = hyperedges\n",
    "contact_high[\"nodLabels\"] = [[nodLabels[node-1] for node in edge] for edge in hyperedges]\n",
    "contact_high[\"hlrc\"] = hlrc\n",
    "contact_high[\"hfrc\"] = hfrc\n",
    "\n",
    "contact_high.head()"
   ]
  },
  {
   "cell_type": "markdown",
   "id": "6033b983-f464-443f-817b-b870f84c9eaf",
   "metadata": {},
   "source": [
    "## Save"
   ]
  },
  {
   "cell_type": "code",
   "execution_count": 7,
   "id": "41f60aff-6123-4a96-a3b1-0d0da849cf71",
   "metadata": {},
   "outputs": [],
   "source": [
    "contact_high.to_pickle('./derived_data/hlrc_hfrc.pkl')"
   ]
  }
 ],
 "metadata": {
  "kernelspec": {
   "display_name": "Python 3 (ipykernel)",
   "language": "python",
   "name": "python3"
  },
  "language_info": {
   "codemirror_mode": {
    "name": "ipython",
    "version": 3
   },
   "file_extension": ".py",
   "mimetype": "text/x-python",
   "name": "python",
   "nbconvert_exporter": "python",
   "pygments_lexer": "ipython3",
   "version": "3.10.9"
  }
 },
 "nbformat": 4,
 "nbformat_minor": 5
}
