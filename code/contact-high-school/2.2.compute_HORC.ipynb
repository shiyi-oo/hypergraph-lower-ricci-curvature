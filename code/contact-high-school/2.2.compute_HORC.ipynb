{
 "cells": [
  {
   "cell_type": "markdown",
   "id": "826e75b9-6e54-459f-8c29-ab5b17edecb6",
   "metadata": {},
   "source": [
    "# Contact-High-School"
   ]
  },
  {
   "cell_type": "code",
   "execution_count": 1,
   "id": "6b72c608-096b-40c2-9c28-cb319d70fc71",
   "metadata": {},
   "outputs": [
    {
     "name": "stderr",
     "output_type": "stream",
     "text": [
      "\u001b[32m\u001b[1m  Activating\u001b[22m\u001b[39m project at `/work/users/s/h/shiyi/hypergraph_with_curvature/orchid`\n",
      "\u001b[36m\u001b[1m[ \u001b[22m\u001b[39m\u001b[36m\u001b[1mInfo: \u001b[22m\u001b[39mPrecompiling Orchid [65b37873-18c8-4f67-ad9c-7e8325cd4959]\n"
     ]
    }
   ],
   "source": [
    "using Pkg\n",
    "Pkg.activate(\"/work/users/s/h/shiyi/hypergraph_with_curvature/orchid\")\n",
    "using Orchid, SparseArrays, DelimitedFiles, Base.Threads, JSON"
   ]
  },
  {
   "cell_type": "code",
   "execution_count": 15,
   "id": "356045c7-2a3d-4f52-b278-1487b74579dc",
   "metadata": {
    "tags": []
   },
   "outputs": [
    {
     "data": {
      "text/plain": [
       "process_and_save (generic function with 1 method)"
      ]
     },
     "execution_count": 15,
     "metadata": {},
     "output_type": "execute_result"
    }
   ],
   "source": [
    "# Function to parse the edge list\n",
    "parse_edgelist(fp) = [parse.(Int, split(r, '\\t')) for r in readlines(fp) if r != \"\"]\n",
    "\n",
    "# Function to generate incidence matrix\n",
    "function generate_incidence_matrix(H_list::Vector{Vector{Int64}})\n",
    "    all_nodes = Set{Int}()\n",
    "    for edge in H_list\n",
    "        for node in edge\n",
    "            push!(all_nodes, node)\n",
    "        end\n",
    "    end\n",
    "    nodes = sort(collect(all_nodes))\n",
    "    num_edges = length(H_list)\n",
    "    num_nodes = length(nodes)\n",
    "    incidence_matrix = zeros(Int, num_edges, num_nodes)\n",
    "    for (i, edge) in enumerate(H_list)\n",
    "        for node in edge\n",
    "            col_index = findfirst(x -> x == node, nodes)\n",
    "            if col_index !== nothing\n",
    "                incidence_matrix[i, col_index] = 1\n",
    "            end\n",
    "        end\n",
    "    end\n",
    "    return sparse(incidence_matrix)\n",
    "end\n",
    "\n",
    "function compute_horc(file_path)\n",
    "    println(\"Start $file_path\")\n",
    "    H_list = parse_edgelist(file_path)\n",
    "    H_Inc = generate_incidence_matrix(H_list)\n",
    "    horc = hypergraph_curvatures(\n",
    "        Orchid.DisperseWeightedClique,\n",
    "        Orchid.AggregateMean,\n",
    "        H_Inc,\n",
    "        0.0,\n",
    "        Orchid.CostOndemand\n",
    "    )\n",
    "    return horc\n",
    "end\n",
    "\n",
    "function process_and_save(file_path::String, output_json::String)\n",
    "    horc = compute_horc(file_path)\n",
    "    \n",
    "    open(output_json, \"w\") do io\n",
    "        JSON.print(io, horc)\n",
    "    end\n",
    "end\n"
   ]
  },
  {
   "cell_type": "code",
   "execution_count": 12,
   "id": "51cca730-b473-49e4-b13f-76b9ebfd7a76",
   "metadata": {},
   "outputs": [
    {
     "data": {
      "text/plain": [
       "\"./derived_data/horc.json\""
      ]
     },
     "execution_count": 12,
     "metadata": {},
     "output_type": "execute_result"
    }
   ],
   "source": [
    "file_path = \"./derived_data/hyperedges.tsv\"\n",
    "output_json = \"./derived_data/horc.json\""
   ]
  },
  {
   "cell_type": "markdown",
   "id": "5d10050c-0c55-49d9-bcd9-8674c7571c44",
   "metadata": {},
   "source": [
    "## computation time"
   ]
  },
  {
   "cell_type": "code",
   "execution_count": 18,
   "id": "c4cf9bf8-7d0b-46b0-bf45-5598f97550ba",
   "metadata": {},
   "outputs": [
    {
     "name": "stdout",
     "output_type": "stream",
     "text": [
      "Start ./derived_data/hyperedges.tsv\n"
     ]
    },
    {
     "name": "stderr",
     "output_type": "stream",
     "text": [
      "\u001b[36m\u001b[1m[ \u001b[22m\u001b[39m\u001b[36m\u001b[1mInfo: \u001b[22m\u001b[39mPreparing Input\n",
      "\u001b[36m\u001b[1m[ \u001b[22m\u001b[39m\u001b[36m\u001b[1mInfo: \u001b[22m\u001b[39mPreparing Neighborhoods\n",
      "\u001b[36m\u001b[1m[ \u001b[22m\u001b[39m\u001b[36m\u001b[1mInfo: \u001b[22m\u001b[39mPreparing Ondemand Cost Computation\n",
      "\u001b[36m\u001b[1m[ \u001b[22m\u001b[39m\u001b[36m\u001b[1mInfo: \u001b[22m\u001b[39mPreparing Dispersion\n",
      "\u001b[36m\u001b[1m[ \u001b[22m\u001b[39m\u001b[36m\u001b[1mInfo: \u001b[22m\u001b[39mComputing Dispersions\n",
      "\u001b[36m\u001b[1m[ \u001b[22m\u001b[39m\u001b[36m\u001b[1mInfo: \u001b[22m\u001b[39mComputing Directional Curvature\n"
     ]
    },
    {
     "name": "stdout",
     "output_type": "stream",
     "text": [
      "  3.820983 seconds (905.86 k allocations: 1.383 GiB, 16.77% gc time)\n"
     ]
    },
    {
     "name": "stderr",
     "output_type": "stream",
     "text": [
      "\u001b[36m\u001b[1m[ \u001b[22m\u001b[39m\u001b[36m\u001b[1mInfo: \u001b[22m\u001b[39mComputing Node Curvature Neighborhood\n",
      "\u001b[36m\u001b[1m[ \u001b[22m\u001b[39m\u001b[36m\u001b[1mInfo: \u001b[22m\u001b[39mComputing Edge Curvature\n",
      "\u001b[36m\u001b[1m[ \u001b[22m\u001b[39m\u001b[36m\u001b[1mInfo: \u001b[22m\u001b[39mComputing Node Curvature Edges\n"
     ]
    }
   ],
   "source": [
    "@time horc = compute_horc(file_path);"
   ]
  },
  {
   "cell_type": "markdown",
   "id": "781a9474-4e2b-4441-9363-5e319b2121d6",
   "metadata": {},
   "source": [
    "## save"
   ]
  },
  {
   "cell_type": "code",
   "execution_count": 16,
   "id": "2caaffdc-a0ed-411c-8dbc-8b0c366b7368",
   "metadata": {},
   "outputs": [
    {
     "name": "stdout",
     "output_type": "stream",
     "text": [
      "Start ./derived_data/hyperedges.tsv\n"
     ]
    },
    {
     "name": "stderr",
     "output_type": "stream",
     "text": [
      "\u001b[36m\u001b[1m[ \u001b[22m\u001b[39m\u001b[36m\u001b[1mInfo: \u001b[22m\u001b[39mPreparing Input\n",
      "\u001b[36m\u001b[1m[ \u001b[22m\u001b[39m\u001b[36m\u001b[1mInfo: \u001b[22m\u001b[39mPreparing Neighborhoods\n",
      "\u001b[36m\u001b[1m[ \u001b[22m\u001b[39m\u001b[36m\u001b[1mInfo: \u001b[22m\u001b[39mPreparing Ondemand Cost Computation\n",
      "\u001b[36m\u001b[1m[ \u001b[22m\u001b[39m\u001b[36m\u001b[1mInfo: \u001b[22m\u001b[39mPreparing Dispersion\n",
      "\u001b[36m\u001b[1m[ \u001b[22m\u001b[39m\u001b[36m\u001b[1mInfo: \u001b[22m\u001b[39mComputing Dispersions\n",
      "\u001b[36m\u001b[1m[ \u001b[22m\u001b[39m\u001b[36m\u001b[1mInfo: \u001b[22m\u001b[39mComputing Directional Curvature\n",
      "\u001b[36m\u001b[1m[ \u001b[22m\u001b[39m\u001b[36m\u001b[1mInfo: \u001b[22m\u001b[39mComputing Node Curvature Neighborhood\n",
      "\u001b[36m\u001b[1m[ \u001b[22m\u001b[39m\u001b[36m\u001b[1mInfo: \u001b[22m\u001b[39mComputing Edge Curvature\n",
      "\u001b[36m\u001b[1m[ \u001b[22m\u001b[39m\u001b[36m\u001b[1mInfo: \u001b[22m\u001b[39mComputing Node Curvature Edges\n"
     ]
    }
   ],
   "source": [
    "process_and_save(file_path,output_json)"
   ]
  },
  {
   "cell_type": "code",
   "execution_count": null,
   "id": "ca575e06-9667-439b-819d-8f55d87a9e6c",
   "metadata": {},
   "outputs": [],
   "source": []
  }
 ],
 "metadata": {
  "kernelspec": {
   "display_name": "Julia 1.8.0",
   "language": "julia",
   "name": "julia-1.8"
  },
  "language_info": {
   "file_extension": ".jl",
   "mimetype": "application/julia",
   "name": "julia",
   "version": "1.8.0"
  }
 },
 "nbformat": 4,
 "nbformat_minor": 5
}
