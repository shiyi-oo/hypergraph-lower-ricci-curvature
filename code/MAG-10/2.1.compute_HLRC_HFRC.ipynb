{
 "cells": [
  {
   "cell_type": "markdown",
   "id": "628e5f17-e8e7-46a9-b346-3bca44ab98a0",
   "metadata": {},
   "source": [
    "# MAG-10"
   ]
  },
  {
   "cell_type": "code",
   "execution_count": 10,
   "id": "9b1a8cf9-8c75-42e9-bc34-5e0997e4c0b8",
   "metadata": {},
   "outputs": [],
   "source": [
    "folder = \"../../data/raw/mag_10\"\n",
    "with open(f'{folder}/hyperedges.txt', 'r') as f:\n",
    "    hyperedges = [list(map(int, line.strip().split('\\t'))) for line in f]\n",
    "\n",
    "with open(f'{folder}/hyperedge-label-identities.txt', 'r') as f:\n",
    "    hyperedges_labels = [line.strip() for line in f]\n",
    "    # ['KDD', 'WWW', 'ICML',...]\n",
    "with open(f'{folder}/hyperedge-labels.txt', 'r') as f:\n",
    "    hyperedges_labels_idx = [int(line.strip()) for line in f]\n",
    "    # [4, 10, 8, ...]\n",
    "filtered = [(idx, e) for idx, e in zip(hyperedges_labels_idx, hyperedges) if idx <= 10]\n",
    "hyperedges_labels_idx, hyperedges = zip(*filtered)\n",
    "hyperedges_labels_idx = list(hyperedges_labels_idx)\n",
    "hyperedges = list(hyperedges)"
   ]
  },
  {
   "cell_type": "code",
   "execution_count": 11,
   "id": "788b9e29-2b53-4c2c-9864-d39661328009",
   "metadata": {},
   "outputs": [],
   "source": [
    "import sys\n",
    "import os\n",
    "sys.path.append(os.path.abspath('/work/users/s/h/shiyi/hypergraph_with_curvature/code/src'))\n",
    "from hlrc import compute_hlrc\n",
    "from hfrc import compute_hfrc\n",
    "from util import *"
   ]
  },
  {
   "cell_type": "markdown",
   "id": "35be96a5-6f82-4ca2-ac9c-208a529df784",
   "metadata": {},
   "source": [
    "## computation cost"
   ]
  },
  {
   "cell_type": "code",
   "execution_count": 12,
   "id": "ef266382-d68f-426e-9355-42753633ce10",
   "metadata": {},
   "outputs": [
    {
     "name": "stdout",
     "output_type": "stream",
     "text": [
      "326 ms ± 7.05 ms per loop (mean ± std. dev. of 7 runs, 1 loop each)\n",
      "55.9 ms ± 375 µs per loop (mean ± std. dev. of 7 runs, 10 loops each)\n"
     ]
    }
   ],
   "source": [
    "%timeit compute_hlrc(hyperedges)\n",
    "%timeit compute_hfrc(hyperedges)"
   ]
  },
  {
   "cell_type": "markdown",
   "id": "9a2081b3-6b21-4aac-8b9d-25b8b27fb9fa",
   "metadata": {},
   "source": [
    "## compute HLRC and HFRC"
   ]
  },
  {
   "cell_type": "code",
   "execution_count": 14,
   "id": "3bc26ac6-0fbe-4bc0-ba2b-5980c32c4b36",
   "metadata": {},
   "outputs": [],
   "source": [
    "hlrc = compute_hlrc(hyperedges)\n",
    "hfrc = compute_hfrc(hyperedges)"
   ]
  },
  {
   "cell_type": "code",
   "execution_count": 15,
   "id": "e1590b0a-a150-4be7-98ee-8d7788a7f9ae",
   "metadata": {},
   "outputs": [
    {
     "data": {
      "text/html": [
       "<div>\n",
       "<style scoped>\n",
       "    .dataframe tbody tr th:only-of-type {\n",
       "        vertical-align: middle;\n",
       "    }\n",
       "\n",
       "    .dataframe tbody tr th {\n",
       "        vertical-align: top;\n",
       "    }\n",
       "\n",
       "    .dataframe thead th {\n",
       "        text-align: right;\n",
       "    }\n",
       "</style>\n",
       "<table border=\"1\" class=\"dataframe\">\n",
       "  <thead>\n",
       "    <tr style=\"text-align: right;\">\n",
       "      <th></th>\n",
       "      <th>edges</th>\n",
       "      <th>conference</th>\n",
       "      <th>hlrc</th>\n",
       "      <th>hfrc</th>\n",
       "    </tr>\n",
       "  </thead>\n",
       "  <tbody>\n",
       "    <tr>\n",
       "      <th>0</th>\n",
       "      <td>[36025, 36026, 36027, 36028]</td>\n",
       "      <td>NeurIPS</td>\n",
       "      <td>0.045290</td>\n",
       "      <td>-19</td>\n",
       "    </tr>\n",
       "    <tr>\n",
       "      <th>1</th>\n",
       "      <td>[1985, 3478, 5995, 36947]</td>\n",
       "      <td>SIGMOD</td>\n",
       "      <td>-0.139507</td>\n",
       "      <td>-141</td>\n",
       "    </tr>\n",
       "    <tr>\n",
       "      <th>2</th>\n",
       "      <td>[18731, 18733, 80535, 80536, 80537, 80538, 80539]</td>\n",
       "      <td>ICCV</td>\n",
       "      <td>0.684524</td>\n",
       "      <td>2</td>\n",
       "    </tr>\n",
       "    <tr>\n",
       "      <th>3</th>\n",
       "      <td>[33963, 33964]</td>\n",
       "      <td>WWW</td>\n",
       "      <td>1.000000</td>\n",
       "      <td>2</td>\n",
       "    </tr>\n",
       "    <tr>\n",
       "      <th>4</th>\n",
       "      <td>[2732, 13887, 15342, 19856]</td>\n",
       "      <td>CVPR</td>\n",
       "      <td>-0.621444</td>\n",
       "      <td>-77</td>\n",
       "    </tr>\n",
       "  </tbody>\n",
       "</table>\n",
       "</div>"
      ],
      "text/plain": [
       "                                               edges conference      hlrc  \\\n",
       "0                       [36025, 36026, 36027, 36028]    NeurIPS  0.045290   \n",
       "1                          [1985, 3478, 5995, 36947]     SIGMOD -0.139507   \n",
       "2  [18731, 18733, 80535, 80536, 80537, 80538, 80539]       ICCV  0.684524   \n",
       "3                                     [33963, 33964]        WWW  1.000000   \n",
       "4                        [2732, 13887, 15342, 19856]       CVPR -0.621444   \n",
       "\n",
       "   hfrc  \n",
       "0   -19  \n",
       "1  -141  \n",
       "2     2  \n",
       "3     2  \n",
       "4   -77  "
      ]
     },
     "execution_count": 15,
     "metadata": {},
     "output_type": "execute_result"
    }
   ],
   "source": [
    "mag10  = pd.DataFrame()\n",
    "mag10[\"edges\"] = hyperedges\n",
    "mag10['conference'] = [hyperedges_labels[idx-1] for idx in hyperedges_labels_idx]\n",
    "mag10[\"hlrc\"] = hlrc\n",
    "mag10[\"hfrc\"] = hfrc\n",
    "\n",
    "mag10.head()"
   ]
  },
  {
   "cell_type": "markdown",
   "id": "917e49e1-1861-4997-8d52-e592f3f10e39",
   "metadata": {},
   "source": [
    "## Save"
   ]
  },
  {
   "cell_type": "code",
   "execution_count": 16,
   "id": "4d7a17eb-0fb6-4fda-abd2-ac7d65412f62",
   "metadata": {},
   "outputs": [],
   "source": [
    "mag10.to_pickle(\"./derived_data/hlrc_hfrc.pkl\")"
   ]
  },
  {
   "cell_type": "code",
   "execution_count": null,
   "id": "f5dffc64-930f-425b-bb39-a3cd85636f38",
   "metadata": {},
   "outputs": [],
   "source": []
  }
 ],
 "metadata": {
  "kernelspec": {
   "display_name": "Python 3 (ipykernel)",
   "language": "python",
   "name": "python3"
  },
  "language_info": {
   "codemirror_mode": {
    "name": "ipython",
    "version": 3
   },
   "file_extension": ".py",
   "mimetype": "text/x-python",
   "name": "python",
   "nbconvert_exporter": "python",
   "pygments_lexer": "ipython3",
   "version": "3.10.9"
  }
 },
 "nbformat": 4,
 "nbformat_minor": 5
}
