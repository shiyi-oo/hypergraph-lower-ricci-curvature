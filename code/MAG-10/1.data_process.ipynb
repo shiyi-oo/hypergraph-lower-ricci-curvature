{
 "cells": [
  {
   "cell_type": "markdown",
   "id": "8c5032d2-04a2-492c-b384-cc6a0a070897",
   "metadata": {},
   "source": [
    "# MAG-10"
   ]
  },
  {
   "cell_type": "code",
   "execution_count": 1,
   "id": "d01bc830-fe10-4fae-a363-4475941e480e",
   "metadata": {},
   "outputs": [],
   "source": [
    "import numpy as np\n",
    "from collections import Counter"
   ]
  },
  {
   "cell_type": "code",
   "execution_count": 2,
   "id": "88d59f18-bbbe-4b70-8361-a71d8d70d95c",
   "metadata": {},
   "outputs": [],
   "source": [
    "folder = \"../../data/raw/mag_10\"\n",
    "with open(f'{folder}/hyperedges.txt', 'r') as f:\n",
    "    hyperedges = [list(map(int, line.strip().split('\\t'))) for line in f]\n",
    "\n",
    "with open(f'{folder}/hyperedge-label-identities.txt', 'r') as f:\n",
    "    hyperedges_labels = [line.strip() for line in f]\n",
    "    # ['KDD', 'WWW', 'ICML',...]\n",
    "with open(f'{folder}/hyperedge-labels.txt', 'r') as f:\n",
    "    hyperedges_labels_idx = [int(line.strip()) for line in f]\n",
    "    # [4, 10, 8, ...]"
   ]
  },
  {
   "cell_type": "code",
   "execution_count": 4,
   "id": "312d4f95-cd27-4122-b65a-304e2892a0b3",
   "metadata": {},
   "outputs": [],
   "source": [
    "filtered = [(idx, e) for idx, e in zip(hyperedges_labels_idx, hyperedges) if idx <= 10]\n",
    "hyperedges_labels_idx, hyperedges = zip(*filtered)\n",
    "hyperedges_labels_idx = list(hyperedges_labels_idx)\n",
    "hyperedges = list(hyperedges)"
   ]
  },
  {
   "cell_type": "code",
   "execution_count": 5,
   "id": "4ffee081-8c44-4576-bede-ac3f729aa44c",
   "metadata": {},
   "outputs": [
    {
     "name": "stdout",
     "output_type": "stream",
     "text": [
      "# of edges: 51888\n",
      "# of nodes: 80198\n",
      "node degree: - average: 2.3; sd:4.6\n",
      "edge degree: - average 3.5; sd: 1.6\n",
      "max edge degree: 25\n",
      "percent of edges with degree 2: 29.9%\n"
     ]
    }
   ],
   "source": [
    "# stats\n",
    "print(\"# of edges:\", len(hyperedges))\n",
    "print(\"# of nodes:\", len({node for edge in hyperedges for node in edge}))\n",
    "\n",
    "node_counts = Counter(node for edge in hyperedges for node in edge)\n",
    "node_deg = np.array(list(node_counts.values()))\n",
    "mean_node_deg = node_deg.mean()\n",
    "std_node_deg  = node_deg.std(ddof=0)\n",
    "print(f\"node degree: - average: {mean_node_deg:.1f}; sd:{std_node_deg:.1f}\")\n",
    "\n",
    "num_edges = len(hyperedges)\n",
    "edge_deg = np.array([len(edge) for edge in hyperedges])\n",
    "mean_edge_deg = edge_deg.mean()\n",
    "std_edge_deg  = edge_deg.std(ddof=0)\n",
    "print(f\"edge degree: - average {mean_edge_deg:.1f}; sd: {std_edge_deg:.1f}\")\n",
    "\n",
    "max_edge_deg = int(edge_deg.max()) if num_edges > 0 else 0\n",
    "print(\"max edge degree:\", max_edge_deg)\n",
    "\n",
    "num_deg2 = int((edge_deg == 2).sum())\n",
    "pct_deg2 = (num_deg2 / num_edges) * 100 if num_edges > 0 else 0.0\n",
    "print(f\"percent of edges with degree 2: {pct_deg2:.1f}%\")"
   ]
  },
  {
   "cell_type": "code",
   "execution_count": 8,
   "id": "11a9b1c1-9903-45b9-b48d-42ad1f5043a3",
   "metadata": {},
   "outputs": [],
   "source": [
    "# save as tsv for HORC computation\n",
    "with open('./derived_data/hyperedges.tsv', 'w') as f:\n",
    "    for edge in hyperedges:\n",
    "        f.write('\\t'.join(map(str, edge)) + '\\n')"
   ]
  }
 ],
 "metadata": {
  "kernelspec": {
   "display_name": "Python 3 (ipykernel)",
   "language": "python",
   "name": "python3"
  },
  "language_info": {
   "codemirror_mode": {
    "name": "ipython",
    "version": 3
   },
   "file_extension": ".py",
   "mimetype": "text/x-python",
   "name": "python",
   "nbconvert_exporter": "python",
   "pygments_lexer": "ipython3",
   "version": "3.10.9"
  }
 },
 "nbformat": 4,
 "nbformat_minor": 5
}
