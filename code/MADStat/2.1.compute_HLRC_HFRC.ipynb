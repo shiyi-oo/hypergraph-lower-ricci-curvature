{
 "cells": [
  {
   "cell_type": "markdown",
   "id": "10bed222-43d6-42d8-b554-8193d853c6eb",
   "metadata": {},
   "source": [
    "# MADStat"
   ]
  },
  {
   "cell_type": "code",
   "execution_count": 1,
   "id": "6d9eb329-a3c6-4eed-a749-a87420590357",
   "metadata": {},
   "outputs": [],
   "source": [
    "import pandas as pd"
   ]
  },
  {
   "cell_type": "code",
   "execution_count": 2,
   "id": "c7900100-dcc9-49be-861c-2ee14c98f322",
   "metadata": {},
   "outputs": [
    {
     "data": {
      "text/html": [
       "<div>\n",
       "<style scoped>\n",
       "    .dataframe tbody tr th:only-of-type {\n",
       "        vertical-align: middle;\n",
       "    }\n",
       "\n",
       "    .dataframe tbody tr th {\n",
       "        vertical-align: top;\n",
       "    }\n",
       "\n",
       "    .dataframe thead th {\n",
       "        text-align: right;\n",
       "    }\n",
       "</style>\n",
       "<table border=\"1\" class=\"dataframe\">\n",
       "  <thead>\n",
       "    <tr style=\"text-align: right;\">\n",
       "      <th></th>\n",
       "      <th>idxPap</th>\n",
       "      <th>edges</th>\n",
       "      <th>year</th>\n",
       "      <th>journal</th>\n",
       "    </tr>\n",
       "  </thead>\n",
       "  <tbody>\n",
       "    <tr>\n",
       "      <th>0</th>\n",
       "      <td>1</td>\n",
       "      <td>[16118, 24934, 46252, 46442]</td>\n",
       "      <td>2014</td>\n",
       "      <td>Bcs</td>\n",
       "    </tr>\n",
       "    <tr>\n",
       "      <th>1</th>\n",
       "      <td>2</td>\n",
       "      <td>[17528, 22080, 24306, 25297, 34423, 46604, 46851]</td>\n",
       "      <td>2014</td>\n",
       "      <td>Bcs</td>\n",
       "    </tr>\n",
       "    <tr>\n",
       "      <th>2</th>\n",
       "      <td>3</td>\n",
       "      <td>[5140, 23393, 26434]</td>\n",
       "      <td>2014</td>\n",
       "      <td>Bcs</td>\n",
       "    </tr>\n",
       "    <tr>\n",
       "      <th>3</th>\n",
       "      <td>4</td>\n",
       "      <td>[19477, 22801, 31195, 37481]</td>\n",
       "      <td>2014</td>\n",
       "      <td>Bcs</td>\n",
       "    </tr>\n",
       "    <tr>\n",
       "      <th>4</th>\n",
       "      <td>5</td>\n",
       "      <td>[7154, 10981, 29847, 34337, 46127]</td>\n",
       "      <td>2014</td>\n",
       "      <td>Bcs</td>\n",
       "    </tr>\n",
       "  </tbody>\n",
       "</table>\n",
       "</div>"
      ],
      "text/plain": [
       "   idxPap                                              edges  year journal\n",
       "0       1                       [16118, 24934, 46252, 46442]  2014     Bcs\n",
       "1       2  [17528, 22080, 24306, 25297, 34423, 46604, 46851]  2014     Bcs\n",
       "2       3                               [5140, 23393, 26434]  2014     Bcs\n",
       "3       4                       [19477, 22801, 31195, 37481]  2014     Bcs\n",
       "4       5                 [7154, 10981, 29847, 34337, 46127]  2014     Bcs"
      ]
     },
     "execution_count": 2,
     "metadata": {},
     "output_type": "execute_result"
    }
   ],
   "source": [
    "madstat = pd.read_pickle('./derived_data/madstat.pkl')\n",
    "madstat.head()"
   ]
  },
  {
   "cell_type": "code",
   "execution_count": 3,
   "id": "39eadd7d-1739-4210-92d4-796ff356bfc1",
   "metadata": {},
   "outputs": [],
   "source": [
    "hyperedges = madstat['edges']"
   ]
  },
  {
   "cell_type": "markdown",
   "id": "f956e542-97f6-4f10-bcf8-a8d0c724e77e",
   "metadata": {},
   "source": [
    "## computation time"
   ]
  },
  {
   "cell_type": "code",
   "execution_count": 4,
   "id": "9a164bcd-1e10-4582-b3d1-228a033e223d",
   "metadata": {},
   "outputs": [],
   "source": [
    "import sys\n",
    "import os\n",
    "sys.path.append(os.path.abspath('/work/users/s/h/shiyi/hypergraph_with_curvature/code/src'))\n",
    "from hlrc import compute_hlrc\n",
    "from hfrc import compute_hfrc\n",
    "from util import *"
   ]
  },
  {
   "cell_type": "code",
   "execution_count": 5,
   "id": "518385b0-5c12-4cd7-8d6a-7f67b0d1cec6",
   "metadata": {},
   "outputs": [
    {
     "name": "stdout",
     "output_type": "stream",
     "text": [
      "311 ms ± 4.31 ms per loop (mean ± std. dev. of 7 runs, 1 loop each)\n",
      "93.2 ms ± 345 µs per loop (mean ± std. dev. of 7 runs, 10 loops each)\n"
     ]
    }
   ],
   "source": [
    "%timeit compute_hlrc(hyperedges)\n",
    "\n",
    "%timeit compute_hfrc(hyperedges)"
   ]
  },
  {
   "cell_type": "markdown",
   "id": "dcacff5d-bf7b-4c23-9605-0cf5900a4ba8",
   "metadata": {},
   "source": [
    "## compute HLRC and HFRC"
   ]
  },
  {
   "cell_type": "code",
   "execution_count": 6,
   "id": "9e16cd3b-a620-4b62-99bb-14ddcc828dfe",
   "metadata": {},
   "outputs": [],
   "source": [
    "hlrc = compute_hlrc(hyperedges)\n",
    "hfrc = compute_hfrc(hyperedges)"
   ]
  },
  {
   "cell_type": "code",
   "execution_count": 7,
   "id": "a2233d8f-514c-4259-9809-6a10adfe8242",
   "metadata": {},
   "outputs": [
    {
     "data": {
      "text/html": [
       "<div>\n",
       "<style scoped>\n",
       "    .dataframe tbody tr th:only-of-type {\n",
       "        vertical-align: middle;\n",
       "    }\n",
       "\n",
       "    .dataframe tbody tr th {\n",
       "        vertical-align: top;\n",
       "    }\n",
       "\n",
       "    .dataframe thead th {\n",
       "        text-align: right;\n",
       "    }\n",
       "</style>\n",
       "<table border=\"1\" class=\"dataframe\">\n",
       "  <thead>\n",
       "    <tr style=\"text-align: right;\">\n",
       "      <th></th>\n",
       "      <th>idxPap</th>\n",
       "      <th>edges</th>\n",
       "      <th>year</th>\n",
       "      <th>journal</th>\n",
       "      <th>hlrc</th>\n",
       "      <th>hfrc</th>\n",
       "    </tr>\n",
       "  </thead>\n",
       "  <tbody>\n",
       "    <tr>\n",
       "      <th>0</th>\n",
       "      <td>1</td>\n",
       "      <td>[16118, 24934, 46252, 46442]</td>\n",
       "      <td>2014</td>\n",
       "      <td>Bcs</td>\n",
       "      <td>0.034524</td>\n",
       "      <td>-6</td>\n",
       "    </tr>\n",
       "    <tr>\n",
       "      <th>1</th>\n",
       "      <td>2</td>\n",
       "      <td>[17528, 22080, 24306, 25297, 34423, 46604, 46851]</td>\n",
       "      <td>2014</td>\n",
       "      <td>Bcs</td>\n",
       "      <td>0.289129</td>\n",
       "      <td>-88</td>\n",
       "    </tr>\n",
       "    <tr>\n",
       "      <th>2</th>\n",
       "      <td>3</td>\n",
       "      <td>[5140, 23393, 26434]</td>\n",
       "      <td>2014</td>\n",
       "      <td>Bcs</td>\n",
       "      <td>-0.365079</td>\n",
       "      <td>-57</td>\n",
       "    </tr>\n",
       "    <tr>\n",
       "      <th>3</th>\n",
       "      <td>4</td>\n",
       "      <td>[19477, 22801, 31195, 37481]</td>\n",
       "      <td>2014</td>\n",
       "      <td>Bcs</td>\n",
       "      <td>-0.152244</td>\n",
       "      <td>-35</td>\n",
       "    </tr>\n",
       "    <tr>\n",
       "      <th>4</th>\n",
       "      <td>5</td>\n",
       "      <td>[7154, 10981, 29847, 34337, 46127]</td>\n",
       "      <td>2014</td>\n",
       "      <td>Bcs</td>\n",
       "      <td>0.219958</td>\n",
       "      <td>-35</td>\n",
       "    </tr>\n",
       "  </tbody>\n",
       "</table>\n",
       "</div>"
      ],
      "text/plain": [
       "   idxPap                                              edges  year journal  \\\n",
       "0       1                       [16118, 24934, 46252, 46442]  2014     Bcs   \n",
       "1       2  [17528, 22080, 24306, 25297, 34423, 46604, 46851]  2014     Bcs   \n",
       "2       3                               [5140, 23393, 26434]  2014     Bcs   \n",
       "3       4                       [19477, 22801, 31195, 37481]  2014     Bcs   \n",
       "4       5                 [7154, 10981, 29847, 34337, 46127]  2014     Bcs   \n",
       "\n",
       "       hlrc  hfrc  \n",
       "0  0.034524    -6  \n",
       "1  0.289129   -88  \n",
       "2 -0.365079   -57  \n",
       "3 -0.152244   -35  \n",
       "4  0.219958   -35  "
      ]
     },
     "execution_count": 7,
     "metadata": {},
     "output_type": "execute_result"
    }
   ],
   "source": [
    "madstat[\"hlrc\"] = hlrc\n",
    "madstat[\"hfrc\"] = hfrc\n",
    "\n",
    "madstat.head()"
   ]
  },
  {
   "cell_type": "markdown",
   "id": "5bb04df6-06a4-4abd-9190-db4e72350570",
   "metadata": {},
   "source": [
    "## Save"
   ]
  },
  {
   "cell_type": "code",
   "execution_count": 8,
   "id": "3d2d2dec-0a24-439d-b0a5-23066ee4e06e",
   "metadata": {},
   "outputs": [],
   "source": [
    "madstat.to_pickle(\"./derived_data/hlrc_hfrc.pkl\")"
   ]
  },
  {
   "cell_type": "code",
   "execution_count": null,
   "id": "fc69a41c-9317-43ea-9c38-85f7914c3e55",
   "metadata": {},
   "outputs": [],
   "source": []
  }
 ],
 "metadata": {
  "kernelspec": {
   "display_name": "Python 3 (ipykernel)",
   "language": "python",
   "name": "python3"
  },
  "language_info": {
   "codemirror_mode": {
    "name": "ipython",
    "version": 3
   },
   "file_extension": ".py",
   "mimetype": "text/x-python",
   "name": "python",
   "nbconvert_exporter": "python",
   "pygments_lexer": "ipython3",
   "version": "3.10.9"
  }
 },
 "nbformat": 4,
 "nbformat_minor": 5
}
