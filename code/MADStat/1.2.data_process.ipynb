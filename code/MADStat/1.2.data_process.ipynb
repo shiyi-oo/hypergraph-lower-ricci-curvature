{
 "cells": [
  {
   "cell_type": "markdown",
   "id": "3b6e7548-30f8-4a59-b8a5-1465925b21a5",
   "metadata": {},
   "source": [
    "# MADStat"
   ]
  },
  {
   "cell_type": "code",
   "execution_count": 5,
   "id": "be94ecf6-52a0-4a23-b084-87bc792346d4",
   "metadata": {},
   "outputs": [],
   "source": [
    "import pandas as pd\n",
    "import numpy as np\n",
    "from collections import Counter"
   ]
  },
  {
   "cell_type": "code",
   "execution_count": 2,
   "id": "5a740ced-33ec-498a-beec-f44b14eb48c9",
   "metadata": {},
   "outputs": [
    {
     "data": {
      "text/html": [
       "<div>\n",
       "<style scoped>\n",
       "    .dataframe tbody tr th:only-of-type {\n",
       "        vertical-align: middle;\n",
       "    }\n",
       "\n",
       "    .dataframe tbody tr th {\n",
       "        vertical-align: top;\n",
       "    }\n",
       "\n",
       "    .dataframe thead th {\n",
       "        text-align: right;\n",
       "    }\n",
       "</style>\n",
       "<table border=\"1\" class=\"dataframe\">\n",
       "  <thead>\n",
       "    <tr style=\"text-align: right;\">\n",
       "      <th></th>\n",
       "      <th>idxAu</th>\n",
       "      <th>idxPap</th>\n",
       "      <th>year</th>\n",
       "      <th>journal</th>\n",
       "    </tr>\n",
       "  </thead>\n",
       "  <tbody>\n",
       "    <tr>\n",
       "      <th>0</th>\n",
       "      <td>1</td>\n",
       "      <td>80017</td>\n",
       "      <td>2014</td>\n",
       "      <td>Biost</td>\n",
       "    </tr>\n",
       "    <tr>\n",
       "      <th>1</th>\n",
       "      <td>2</td>\n",
       "      <td>47012</td>\n",
       "      <td>2001</td>\n",
       "      <td>SMed</td>\n",
       "    </tr>\n",
       "    <tr>\n",
       "      <th>2</th>\n",
       "      <td>3</td>\n",
       "      <td>63665</td>\n",
       "      <td>2010</td>\n",
       "      <td>CSTM</td>\n",
       "    </tr>\n",
       "    <tr>\n",
       "      <th>3</th>\n",
       "      <td>4</td>\n",
       "      <td>3528</td>\n",
       "      <td>1985</td>\n",
       "      <td>Bcs</td>\n",
       "    </tr>\n",
       "    <tr>\n",
       "      <th>4</th>\n",
       "      <td>4</td>\n",
       "      <td>7245</td>\n",
       "      <td>1977</td>\n",
       "      <td>Bka</td>\n",
       "    </tr>\n",
       "  </tbody>\n",
       "</table>\n",
       "</div>"
      ],
      "text/plain": [
       "   idxAu  idxPap  year journal\n",
       "0      1   80017  2014   Biost\n",
       "1      2   47012  2001    SMed\n",
       "2      3   63665  2010    CSTM\n",
       "3      4    3528  1985     Bcs\n",
       "4      4    7245  1977     Bka"
      ]
     },
     "execution_count": 2,
     "metadata": {},
     "output_type": "execute_result"
    }
   ],
   "source": [
    "madstat = pd.read_csv(\"derived_data/AuPapMat.txt\")\n",
    "madstat.head()"
   ]
  },
  {
   "cell_type": "code",
   "execution_count": 3,
   "id": "42b262f5-0751-4aae-a4cd-b755b6ab72d6",
   "metadata": {},
   "outputs": [
    {
     "data": {
      "text/html": [
       "<div>\n",
       "<style scoped>\n",
       "    .dataframe tbody tr th:only-of-type {\n",
       "        vertical-align: middle;\n",
       "    }\n",
       "\n",
       "    .dataframe tbody tr th {\n",
       "        vertical-align: top;\n",
       "    }\n",
       "\n",
       "    .dataframe thead th {\n",
       "        text-align: right;\n",
       "    }\n",
       "</style>\n",
       "<table border=\"1\" class=\"dataframe\">\n",
       "  <thead>\n",
       "    <tr style=\"text-align: right;\">\n",
       "      <th></th>\n",
       "      <th>idxPap</th>\n",
       "      <th>edges</th>\n",
       "      <th>year</th>\n",
       "      <th>journal</th>\n",
       "    </tr>\n",
       "  </thead>\n",
       "  <tbody>\n",
       "    <tr>\n",
       "      <th>0</th>\n",
       "      <td>1</td>\n",
       "      <td>[16118, 24934, 46252, 46442]</td>\n",
       "      <td>2014</td>\n",
       "      <td>Bcs</td>\n",
       "    </tr>\n",
       "    <tr>\n",
       "      <th>1</th>\n",
       "      <td>2</td>\n",
       "      <td>[17528, 22080, 24306, 25297, 34423, 46604, 46851]</td>\n",
       "      <td>2014</td>\n",
       "      <td>Bcs</td>\n",
       "    </tr>\n",
       "    <tr>\n",
       "      <th>2</th>\n",
       "      <td>3</td>\n",
       "      <td>[5140, 23393, 26434]</td>\n",
       "      <td>2014</td>\n",
       "      <td>Bcs</td>\n",
       "    </tr>\n",
       "    <tr>\n",
       "      <th>3</th>\n",
       "      <td>4</td>\n",
       "      <td>[19477, 22801, 31195, 37481]</td>\n",
       "      <td>2014</td>\n",
       "      <td>Bcs</td>\n",
       "    </tr>\n",
       "    <tr>\n",
       "      <th>4</th>\n",
       "      <td>5</td>\n",
       "      <td>[7154, 10981, 29847, 34337, 46127]</td>\n",
       "      <td>2014</td>\n",
       "      <td>Bcs</td>\n",
       "    </tr>\n",
       "  </tbody>\n",
       "</table>\n",
       "</div>"
      ],
      "text/plain": [
       "   idxPap                                              edges  year journal\n",
       "0       1                       [16118, 24934, 46252, 46442]  2014     Bcs\n",
       "1       2  [17528, 22080, 24306, 25297, 34423, 46604, 46851]  2014     Bcs\n",
       "2       3                               [5140, 23393, 26434]  2014     Bcs\n",
       "3       4                       [19477, 22801, 31195, 37481]  2014     Bcs\n",
       "4       5                 [7154, 10981, 29847, 34337, 46127]  2014     Bcs"
      ]
     },
     "execution_count": 3,
     "metadata": {},
     "output_type": "execute_result"
    }
   ],
   "source": [
    "madstat_hg = (\n",
    "    madstat.groupby(\"idxPap\", as_index=False).agg(\n",
    "        edges    = (\"idxAu\", list),\n",
    "        year       = (\"year\",    \"first\"),\n",
    "        journal    = (\"journal\", \"first\")\n",
    "    )\n",
    ")\n",
    "madstat_hg = madstat_hg.rename(columns={\n",
    "    \"idxPap\": \"idxPap\"\n",
    "})\n",
    "madstat_hg.head()"
   ]
  },
  {
   "cell_type": "code",
   "execution_count": 6,
   "id": "e280c1a3-e946-4180-ad8e-51dd37582a52",
   "metadata": {},
   "outputs": [
    {
     "name": "stdout",
     "output_type": "stream",
     "text": [
      "# of edges: 83331\n",
      "# of nodes: 47311\n",
      "node degree: - average: 3.7; sd:7.8\n",
      "edge degree: - average 2.1; sd: 1.1\n",
      "max edge degree: 33\n",
      "percent of edges with degree 2: 40.8%\n"
     ]
    }
   ],
   "source": [
    "hyperedges = madstat_hg['edges'].tolist()\n",
    "# stats\n",
    "print(\"# of edges:\", len(hyperedges))\n",
    "print(\"# of nodes:\", len({node for edge in hyperedges for node in edge}))\n",
    "\n",
    "node_counts = Counter(node for edge in hyperedges for node in edge)\n",
    "node_deg = np.array(list(node_counts.values()))\n",
    "mean_node_deg = node_deg.mean()\n",
    "std_node_deg  = node_deg.std(ddof=0)\n",
    "print(f\"node degree: - average: {mean_node_deg:.1f}; sd:{std_node_deg:.1f}\")\n",
    "\n",
    "num_edges = len(hyperedges)\n",
    "edge_deg = np.array([len(edge) for edge in hyperedges])\n",
    "mean_edge_deg = edge_deg.mean()\n",
    "std_edge_deg  = edge_deg.std(ddof=0)\n",
    "print(f\"edge degree: - average {mean_edge_deg:.1f}; sd: {std_edge_deg:.1f}\")\n",
    "\n",
    "max_edge_deg = int(edge_deg.max()) if num_edges > 0 else 0\n",
    "print(\"max edge degree:\", max_edge_deg)\n",
    "\n",
    "num_deg2 = int((edge_deg == 2).sum())\n",
    "pct_deg2 = (num_deg2 / num_edges) * 100 if num_edges > 0 else 0.0\n",
    "print(f\"percent of edges with degree 2: {pct_deg2:.1f}%\")"
   ]
  },
  {
   "cell_type": "code",
   "execution_count": 8,
   "id": "382f9fb7-d5fd-43ee-957c-9a7829179d50",
   "metadata": {},
   "outputs": [],
   "source": [
    "# save hyperedges as tsv for HORC computation\n",
    "with open('./derived_data/hyperedges.tsv', 'w') as f:\n",
    "    for edge in hyperedges:\n",
    "        f.write('\\t'.join(map(str, edge)) + '\\n')"
   ]
  },
  {
   "cell_type": "code",
   "execution_count": 9,
   "id": "7eda80b7-865e-45bf-af33-42b830446129",
   "metadata": {},
   "outputs": [],
   "source": [
    "# save madstat_hg\n",
    "madstat_hg.to_pickle('./derived_data/madstat.pkl')"
   ]
  },
  {
   "cell_type": "code",
   "execution_count": null,
   "id": "587f91f5-22f3-4d7f-94cb-056d199eae2b",
   "metadata": {},
   "outputs": [],
   "source": []
  }
 ],
 "metadata": {
  "kernelspec": {
   "display_name": "Python 3 (ipykernel)",
   "language": "python",
   "name": "python3"
  },
  "language_info": {
   "codemirror_mode": {
    "name": "ipython",
    "version": 3
   },
   "file_extension": ".py",
   "mimetype": "text/x-python",
   "name": "python",
   "nbconvert_exporter": "python",
   "pygments_lexer": "ipython3",
   "version": "3.10.9"
  }
 },
 "nbformat": 4,
 "nbformat_minor": 5
}
