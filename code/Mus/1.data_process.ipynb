{
 "cells": [
  {
   "cell_type": "markdown",
   "id": "3e459616-2cc5-41dc-b95e-1b6e90f358d7",
   "metadata": {},
   "source": [
    "# Mus"
   ]
  },
  {
   "cell_type": "code",
   "execution_count": 5,
   "id": "28302e0a-bee7-4d0f-bb4f-50af7ce1b2ee",
   "metadata": {},
   "outputs": [],
   "source": [
    "import pandas as pd\n",
    "from tqdm import tqdm\n",
    "import gzip\n",
    "import numpy as np"
   ]
  },
  {
   "cell_type": "code",
   "execution_count": 2,
   "id": "07ba8879-1bad-4984-adfe-d812eece7cfa",
   "metadata": {},
   "outputs": [
    {
     "name": "stderr",
     "output_type": "stream",
     "text": [
      "Processing rows: 496792it [00:01, 434721.50it/s]\n"
     ]
    },
    {
     "data": {
      "text/html": [
       "<div>\n",
       "<style scoped>\n",
       "    .dataframe tbody tr th:only-of-type {\n",
       "        vertical-align: middle;\n",
       "    }\n",
       "\n",
       "    .dataframe tbody tr th {\n",
       "        vertical-align: top;\n",
       "    }\n",
       "\n",
       "    .dataframe thead th {\n",
       "        text-align: right;\n",
       "    }\n",
       "</style>\n",
       "<table border=\"1\" class=\"dataframe\">\n",
       "  <thead>\n",
       "    <tr style=\"text-align: right;\">\n",
       "      <th></th>\n",
       "      <th>idx</th>\n",
       "      <th>edges</th>\n",
       "    </tr>\n",
       "  </thead>\n",
       "  <tbody>\n",
       "    <tr>\n",
       "      <th>0</th>\n",
       "      <td>1</td>\n",
       "      <td>[13, 8, 16, 10]</td>\n",
       "    </tr>\n",
       "    <tr>\n",
       "      <th>1</th>\n",
       "      <td>1</td>\n",
       "      <td>[17, 7, 13, 9, 21]</td>\n",
       "    </tr>\n",
       "    <tr>\n",
       "      <th>2</th>\n",
       "      <td>1</td>\n",
       "      <td>[13, 21, 9, 7]</td>\n",
       "    </tr>\n",
       "    <tr>\n",
       "      <th>3</th>\n",
       "      <td>1</td>\n",
       "      <td>[16, 13, 8, 18, 10]</td>\n",
       "    </tr>\n",
       "    <tr>\n",
       "      <th>4</th>\n",
       "      <td>1</td>\n",
       "      <td>[8, 18, 13, 10]</td>\n",
       "    </tr>\n",
       "  </tbody>\n",
       "</table>\n",
       "</div>"
      ],
      "text/plain": [
       "   idx                edges\n",
       "0    1      [13, 8, 16, 10]\n",
       "1    1   [17, 7, 13, 9, 21]\n",
       "2    1       [13, 21, 9, 7]\n",
       "3    1  [16, 13, 8, 18, 10]\n",
       "4    1      [8, 18, 13, 10]"
      ]
     },
     "execution_count": 2,
     "metadata": {},
     "output_type": "execute_result"
    }
   ],
   "source": [
    "file_path = \"../../data/raw/mus/mus.chg.tsv.gz\"\n",
    "idx = []\n",
    "freq = []\n",
    "\n",
    "# Open the gzipped file and read line by line\n",
    "with gzip.open(file_path, 'rt') as f:\n",
    "    # Read line by line\n",
    "    for line in tqdm(f, desc=\"Processing rows\"):\n",
    "        columns = list(map(int, line.strip().split(\"\\t\")))\n",
    "        idx.append(columns[0])  # First element\n",
    "        freq.append(columns[1:])  # Rest of the elements\n",
    "mus = pd.DataFrame({'idx': idx, 'edges': freq})\n",
    "mus.head()\n"
   ]
  },
  {
   "cell_type": "code",
   "execution_count": 3,
   "id": "c08ae8e5-c79e-435f-a27c-4c4aa50e5118",
   "metadata": {},
   "outputs": [],
   "source": [
    "from itertools import chain\n",
    "\n",
    "nodes_per_graph = (\n",
    "    mus\n",
    "    .groupby(\"idx\")[\"edges\"]\n",
    "    .apply(lambda lists: len(set(chain.from_iterable(lists))))\n",
    "    .rename(\"num_nodes\")\n",
    "    .reset_index()\n",
    ")"
   ]
  },
  {
   "cell_type": "code",
   "execution_count": 6,
   "id": "69852b86-8bd0-4151-a84a-14322c60513c",
   "metadata": {
    "tags": []
   },
   "outputs": [
    {
     "name": "stdout",
     "output_type": "stream",
     "text": [
      "# of graphs: 1944\n",
      "average number of edges: 255.6\n",
      "SD number of edges: 417.1\n",
      "average number of nodes: 24.5\n",
      "SD number of nodes: 6.6\n",
      "max edge degree: 12\n",
      "percent of edges with degree 2: 12.3%\n"
     ]
    }
   ],
   "source": [
    "print(f\"# of graphs: {mus['idx'].nunique()}\")\n",
    "\n",
    "hyperedges = mus.edges.to_list()\n",
    "# average & SD of edges per graph\n",
    "edge_counts = mus.groupby('idx')['edges'].count()\n",
    "print(f\"average number of edges: {edge_counts.mean():.1f}\")\n",
    "print(f\"SD number of edges: {edge_counts.std(ddof=0):.1f}\")\n",
    "\n",
    "# average & SD of nodes per graph\n",
    "print(f\"average number of nodes: {nodes_per_graph['num_nodes'].mean():.1f}\")\n",
    "print(f\"SD number of nodes: {nodes_per_graph['num_nodes'].std(ddof=0):.1f}\")\n",
    "\n",
    "# max edge degree\n",
    "max_edge_deg = max(len(edge) for edge in mus['edges'])\n",
    "print(f\"max edge degree: {max_edge_deg}\")\n",
    "\n",
    "# percent of edges with degree == 2\n",
    "pct_deg2 = np.mean([len(edge) == 2 for edge in mus['edges']]) * 100\n",
    "print(f\"percent of edges with degree 2: {pct_deg2:.1f}%\")"
   ]
  },
  {
   "cell_type": "markdown",
   "id": "603ff11f-a1ab-4bb8-bf93-1a5e39750d8b",
   "metadata": {},
   "source": [
    "## Save"
   ]
  },
  {
   "cell_type": "code",
   "execution_count": 7,
   "id": "9cf740f2-3492-42a7-bdd7-187abab1813a",
   "metadata": {},
   "outputs": [],
   "source": [
    "mus.to_pickle(\"derived_data/mus.pkl\")"
   ]
  },
  {
   "cell_type": "code",
   "execution_count": 4,
   "id": "fd1f2434-8b14-44fa-8912-ceea15106000",
   "metadata": {},
   "outputs": [],
   "source": [
    "# save each hypergraph as a tsv file for HORC computation\n",
    "for idx in mus['idx'].unique():\n",
    "    mus_data = mus[mus['idx'] == idx]\n",
    "    file_path = f\"derived_data/mus/mus_{idx}.tsv\"\n",
    "    edges = mus_data['edges'].apply(lambda x: '\\t'.join(map(str, x)))\n",
    "    # Write the graph to a .tsv file\n",
    "    with open(file_path, 'w') as f:\n",
    "        for edge in edges:\n",
    "            f.write(f\"{edge}\\n\")"
   ]
  },
  {
   "cell_type": "code",
   "execution_count": null,
   "id": "300b1fea-e4db-450b-9d33-081e2eacb790",
   "metadata": {},
   "outputs": [],
   "source": []
  }
 ],
 "metadata": {
  "kernelspec": {
   "display_name": "Python 3 (ipykernel)",
   "language": "python",
   "name": "python3"
  },
  "language_info": {
   "codemirror_mode": {
    "name": "ipython",
    "version": 3
   },
   "file_extension": ".py",
   "mimetype": "text/x-python",
   "name": "python",
   "nbconvert_exporter": "python",
   "pygments_lexer": "ipython3",
   "version": "3.10.9"
  }
 },
 "nbformat": 4,
 "nbformat_minor": 5
}
