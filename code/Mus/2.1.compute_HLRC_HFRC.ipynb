{
 "cells": [
  {
   "cell_type": "markdown",
   "id": "12334468-d335-40ec-9c57-51ba4eeadef6",
   "metadata": {},
   "source": [
    "# Mus"
   ]
  },
  {
   "cell_type": "code",
   "execution_count": 15,
   "id": "95045207-6b02-4a03-8b45-f6fc20c0efc4",
   "metadata": {},
   "outputs": [
    {
     "data": {
      "text/html": [
       "<div>\n",
       "<style scoped>\n",
       "    .dataframe tbody tr th:only-of-type {\n",
       "        vertical-align: middle;\n",
       "    }\n",
       "\n",
       "    .dataframe tbody tr th {\n",
       "        vertical-align: top;\n",
       "    }\n",
       "\n",
       "    .dataframe thead th {\n",
       "        text-align: right;\n",
       "    }\n",
       "</style>\n",
       "<table border=\"1\" class=\"dataframe\">\n",
       "  <thead>\n",
       "    <tr style=\"text-align: right;\">\n",
       "      <th></th>\n",
       "      <th>idx</th>\n",
       "      <th>edges</th>\n",
       "    </tr>\n",
       "  </thead>\n",
       "  <tbody>\n",
       "    <tr>\n",
       "      <th>0</th>\n",
       "      <td>1</td>\n",
       "      <td>[13, 8, 16, 10]</td>\n",
       "    </tr>\n",
       "    <tr>\n",
       "      <th>1</th>\n",
       "      <td>1</td>\n",
       "      <td>[17, 7, 13, 9, 21]</td>\n",
       "    </tr>\n",
       "    <tr>\n",
       "      <th>2</th>\n",
       "      <td>1</td>\n",
       "      <td>[13, 21, 9, 7]</td>\n",
       "    </tr>\n",
       "    <tr>\n",
       "      <th>3</th>\n",
       "      <td>1</td>\n",
       "      <td>[16, 13, 8, 18, 10]</td>\n",
       "    </tr>\n",
       "    <tr>\n",
       "      <th>4</th>\n",
       "      <td>1</td>\n",
       "      <td>[8, 18, 13, 10]</td>\n",
       "    </tr>\n",
       "  </tbody>\n",
       "</table>\n",
       "</div>"
      ],
      "text/plain": [
       "   idx                edges\n",
       "0    1      [13, 8, 16, 10]\n",
       "1    1   [17, 7, 13, 9, 21]\n",
       "2    1       [13, 21, 9, 7]\n",
       "3    1  [16, 13, 8, 18, 10]\n",
       "4    1      [8, 18, 13, 10]"
      ]
     },
     "execution_count": 15,
     "metadata": {},
     "output_type": "execute_result"
    }
   ],
   "source": [
    "import pandas as pd\n",
    "mus = pd.read_pickle(\"./derived_data/mus.pkl\")\n",
    "mus.head()"
   ]
  },
  {
   "cell_type": "markdown",
   "id": "10bf7ab0-4bad-499c-ac14-518c563c7d11",
   "metadata": {},
   "source": [
    "## Compute HLRC and HFRC"
   ]
  },
  {
   "cell_type": "code",
   "execution_count": 16,
   "id": "1b5d0735-7e92-4db9-9ffc-4cf10ed1d8d7",
   "metadata": {},
   "outputs": [],
   "source": [
    "import sys\n",
    "import os\n",
    "sys.path.append(os.path.abspath('/work/users/s/h/shiyi/hypergraph_with_curvature/code/src'))\n",
    "from hlrc import compute_hlrc\n",
    "from hfrc import compute_hfrc\n",
    "from util import *\n",
    "\n",
    "import time\n",
    "from tqdm import tqdm"
   ]
  },
  {
   "cell_type": "code",
   "execution_count": 17,
   "id": "28ff53d9-017d-459b-9701-71f9dd1cfbf6",
   "metadata": {},
   "outputs": [
    {
     "name": "stderr",
     "output_type": "stream",
     "text": [
      "Processing sites: 100%|██████████| 1944/1944 [00:02<00:00, 809.48it/s]"
     ]
    },
    {
     "name": "stdout",
     "output_type": "stream",
     "text": [
      "HLRC: elapsed 2.4032 seconds\n"
     ]
    },
    {
     "name": "stderr",
     "output_type": "stream",
     "text": [
      "\n"
     ]
    }
   ],
   "source": [
    "idxs = mus['idx'].unique()\n",
    "# HLRC\n",
    "t0 = time.time()\n",
    "hlrc_per_graph = []\n",
    "for idx in tqdm(idxs, desc=\"Processing sites\"):\n",
    "    edges = mus.loc[mus['idx'] == idx, 'edges'].tolist()\n",
    "    hlrc_vals = compute_hlrc(edges)\n",
    "    hlrc_per_graph.append(np.array(hlrc_vals, dtype=float))\n",
    "t1 = time.time()\n",
    "print(f\"HLRC: elapsed {t1 - t0:.4f} seconds\")"
   ]
  },
  {
   "cell_type": "code",
   "execution_count": 18,
   "id": "75baf54c-7060-4bbd-9ec3-e5d95b61186e",
   "metadata": {},
   "outputs": [
    {
     "data": {
      "text/plain": [
       "(1944,)"
      ]
     },
     "execution_count": 18,
     "metadata": {},
     "output_type": "execute_result"
    }
   ],
   "source": [
    "hlrc_array = np.array(hlrc_per_graph, dtype=object)\n",
    "hlrc_array.shape"
   ]
  },
  {
   "cell_type": "code",
   "execution_count": 19,
   "id": "33509b9f-36c5-487f-a09c-c982fc81de96",
   "metadata": {},
   "outputs": [
    {
     "name": "stderr",
     "output_type": "stream",
     "text": [
      "Processing sites: 100%|██████████| 1944/1944 [00:00<00:00, 1947.66it/s]"
     ]
    },
    {
     "name": "stdout",
     "output_type": "stream",
     "text": [
      "HFRC: elapsed 1.0000 seconds\n"
     ]
    },
    {
     "name": "stderr",
     "output_type": "stream",
     "text": [
      "\n"
     ]
    }
   ],
   "source": [
    "# HFRC\n",
    "t0 = time.time()\n",
    "hfrc_per_graph = []\n",
    "for idx in tqdm(idxs, desc=\"Processing sites\"):\n",
    "    edges = mus.loc[mus['idx'] == idx, 'edges'].tolist()\n",
    "    hfrc_vals = compute_hfrc(edges)\n",
    "    hfrc_per_graph.append(np.array(hfrc_vals, dtype=float))\n",
    "t1 = time.time()\n",
    "print(f\"HFRC: elapsed {t1 - t0:.4f} seconds\")"
   ]
  },
  {
   "cell_type": "code",
   "execution_count": 20,
   "id": "aeb50d51-1cce-4548-a157-3b452f1d36b0",
   "metadata": {},
   "outputs": [
    {
     "data": {
      "text/plain": [
       "(1944,)"
      ]
     },
     "execution_count": 20,
     "metadata": {},
     "output_type": "execute_result"
    }
   ],
   "source": [
    "hfrc_array = np.array(hfrc_per_graph, dtype=object)\n",
    "hfrc_array.shape"
   ]
  },
  {
   "cell_type": "markdown",
   "id": "feb018c7-1698-4623-ab33-58fd381499e5",
   "metadata": {},
   "source": [
    "## Save"
   ]
  },
  {
   "cell_type": "code",
   "execution_count": 21,
   "id": "32d0f544-f4de-4801-b40d-91677f7f4c10",
   "metadata": {},
   "outputs": [],
   "source": [
    "import pickle\n",
    "with open('derived_data/hlrc.pkl', 'wb') as f:\n",
    "    pickle.dump(hlrc_array, f)\n",
    "    \n",
    "with open('derived_data/hfrc.pkl', 'wb') as f:\n",
    "    pickle.dump(hfrc_array, f)"
   ]
  },
  {
   "cell_type": "code",
   "execution_count": null,
   "id": "d621b941-b00a-4008-8f5d-92675b048e6a",
   "metadata": {},
   "outputs": [],
   "source": []
  }
 ],
 "metadata": {
  "kernelspec": {
   "display_name": "Python 3 (ipykernel)",
   "language": "python",
   "name": "python3"
  },
  "language_info": {
   "codemirror_mode": {
    "name": "ipython",
    "version": 3
   },
   "file_extension": ".py",
   "mimetype": "text/x-python",
   "name": "python",
   "nbconvert_exporter": "python",
   "pygments_lexer": "ipython3",
   "version": "3.10.9"
  }
 },
 "nbformat": 4,
 "nbformat_minor": 5
}
