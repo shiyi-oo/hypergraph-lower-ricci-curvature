{
 "cells": [
  {
   "cell_type": "code",
   "execution_count": 2,
   "metadata": {},
   "outputs": [],
   "source": [
    "import numpy as np\n",
    "import random\n",
    "from tqdm import tqdm\n",
    "import xgi\n",
    "import math"
   ]
  },
  {
   "cell_type": "code",
   "execution_count": 6,
   "metadata": {},
   "outputs": [],
   "source": [
    "# base:\n",
    "n,m,k = 500, 1000, 4"
   ]
  },
  {
   "cell_type": "markdown",
   "metadata": {},
   "source": [
    "# Varying n"
   ]
  },
  {
   "cell_type": "code",
   "execution_count": 7,
   "metadata": {},
   "outputs": [
    {
     "name": "stderr",
     "output_type": "stream",
     "text": [
      "Nodes Loop: 100%|██████████| 5/5 [00:00<00:00, 32.44it/s]\n"
     ]
    }
   ],
   "source": [
    "n_nodes_list = [50, 100, 200, 500, 1000]\n",
    "for num_nodes in tqdm(n_nodes_list, desc=\"Nodes Loop\"):\n",
    "    # edge degree\n",
    "    k2 = {i: k for i in range(1,m+1)}\n",
    "    total_degree = m*k\n",
    "    # node degree\n",
    "    avg_node_deg = math.floor(total_degree / num_nodes)\n",
    "    k1 = {i:avg_node_deg for i in range(1, num_nodes+1)}\n",
    "    diff = total_degree - num_nodes*avg_node_deg\n",
    "    # adjust to match the total degree\n",
    "    k1[1] = k1[1] + diff\n",
    "\n",
    "    # Generate the Chung-Lu hypergraph.\n",
    "    H = xgi.chung_lu_hypergraph(k1, k2)\n",
    "    H_list = xgi.convert.to_hyperedge_list(H)\n",
    "\n",
    "    filename = f\"syn_cl(n,m,k={num_nodes},{m},{k}).tsv\"\n",
    "    filepath = f\"derived_data/{filename}\"\n",
    "    with open(filepath, 'w') as f:\n",
    "        for h_set in H_list[1:]:\n",
    "            values = \"\\t\".join(map(str, sorted(h_set)))  # Sort and join values with tabs\n",
    "            f.write(f\"{values}\\n\")"
   ]
  },
  {
   "cell_type": "markdown",
   "metadata": {},
   "source": [
    "# Varying m"
   ]
  },
  {
   "cell_type": "code",
   "execution_count": 8,
   "metadata": {},
   "outputs": [
    {
     "name": "stderr",
     "output_type": "stream",
     "text": [
      "Edges Loop: 100%|██████████| 5/5 [00:00<00:00, 21.92it/s]\n"
     ]
    }
   ],
   "source": [
    "m_edge_list = [500, 1000, 3000, 5000, 10000]\n",
    "for num_edge in tqdm(m_edge_list, desc=\"Edges Loop\"):\n",
    "    # edge degree\n",
    "    k2 = {i: k for i in range(1,num_edge+1)}\n",
    "    total_degree = num_edge*k\n",
    "    # node degree\n",
    "    avg_node_deg = math.floor(total_degree / n)\n",
    "    k1 = {i:avg_node_deg for i in range(1, n+1)}\n",
    "    diff = total_degree - n*avg_node_deg\n",
    "    # adjust to match the total degree\n",
    "    k1[1] = k1[1] + diff\n",
    "\n",
    "    # Generate the Chung-Lu hypergraph.\n",
    "    H = xgi.chung_lu_hypergraph(k1, k2)\n",
    "    H_list = xgi.convert.to_hyperedge_list(H)\n",
    "\n",
    "    filename = f\"syn_cl(n,m,k={n},{num_edge},{k}).tsv\"\n",
    "    filepath = f\"derived_data/{filename}\"\n",
    "    with open(filepath, 'w') as f:\n",
    "        for h_set in H_list[1:]:\n",
    "            values = \"\\t\".join(map(str, sorted(h_set)))  # Sort and join values with tabs\n",
    "            f.write(f\"{values}\\n\")"
   ]
  },
  {
   "cell_type": "markdown",
   "metadata": {},
   "source": [
    "# Varying k"
   ]
  },
  {
   "cell_type": "code",
   "execution_count": 9,
   "metadata": {},
   "outputs": [
    {
     "name": "stderr",
     "output_type": "stream",
     "text": [
      "K Loop: 100%|██████████| 6/6 [00:00<00:00, 42.74it/s]\n"
     ]
    }
   ],
   "source": [
    "k_list = [2, 3, 4, 5, 10, 15]\n",
    "for k_val in tqdm(k_list, desc=\"K Loop\"):\n",
    "    # edge degree\n",
    "    k2 = {i: k_val for i in range(1,m+1)}\n",
    "    total_degree = m*k_val\n",
    "    # node degree\n",
    "    avg_node_deg = math.floor(total_degree / n)\n",
    "    k1 = {i:avg_node_deg for i in range(1, n+1)}\n",
    "    diff = total_degree - n*avg_node_deg\n",
    "    # adjust to match the total degree\n",
    "    k1[1] = k1[1] + diff\n",
    "\n",
    "    # Generate the Chung-Lu hypergraph.\n",
    "    H = xgi.chung_lu_hypergraph(k1, k2)\n",
    "    H_list = xgi.convert.to_hyperedge_list(H)\n",
    "\n",
    "    filename = f\"syn_cl(n,m,k={n},{m},{k_val}).tsv\"\n",
    "    filepath = f\"derived_data/{filename}\"\n",
    "    with open(filepath, 'w') as f:\n",
    "        for h_set in H_list[1:]:\n",
    "            values = \"\\t\".join(map(str, sorted(h_set)))  # Sort and join values with tabs\n",
    "            f.write(f\"{values}\\n\")"
   ]
  }
 ],
 "metadata": {
  "kernelspec": {
   "display_name": "Python 3 (ipykernel)",
   "language": "python",
   "name": "python3"
  },
  "language_info": {
   "codemirror_mode": {
    "name": "ipython",
    "version": 3
   },
   "file_extension": ".py",
   "mimetype": "text/x-python",
   "name": "python",
   "nbconvert_exporter": "python",
   "pygments_lexer": "ipython3",
   "version": "3.10.9"
  }
 },
 "nbformat": 4,
 "nbformat_minor": 4
}
