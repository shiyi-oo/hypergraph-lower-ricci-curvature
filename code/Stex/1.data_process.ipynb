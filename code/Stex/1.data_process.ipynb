{
 "cells": [
  {
   "cell_type": "markdown",
   "id": "43248bd3-227e-490b-bc1c-57291ea20e2c",
   "metadata": {},
   "source": [
    "# Stex"
   ]
  },
  {
   "cell_type": "code",
   "execution_count": 1,
   "id": "75f94b87-5b21-49f3-9310-928c803865d5",
   "metadata": {},
   "outputs": [],
   "source": [
    "import pandas as pd\n",
    "from tqdm import tqdm\n",
    "import gzip\n",
    "import numpy as np\n",
    "from itertools import chain"
   ]
  },
  {
   "cell_type": "code",
   "execution_count": 2,
   "id": "ed658cd8-f642-48d8-a7bf-0f1b0fddfe55",
   "metadata": {},
   "outputs": [
    {
     "name": "stderr",
     "output_type": "stream",
     "text": [
      "Processing rows: 6689705it [00:16, 406752.93it/s]\n"
     ]
    },
    {
     "data": {
      "text/html": [
       "<div>\n",
       "<style scoped>\n",
       "    .dataframe tbody tr th:only-of-type {\n",
       "        vertical-align: middle;\n",
       "    }\n",
       "\n",
       "    .dataframe tbody tr th {\n",
       "        vertical-align: top;\n",
       "    }\n",
       "\n",
       "    .dataframe thead th {\n",
       "        text-align: right;\n",
       "    }\n",
       "</style>\n",
       "<table border=\"1\" class=\"dataframe\">\n",
       "  <thead>\n",
       "    <tr style=\"text-align: right;\">\n",
       "      <th></th>\n",
       "      <th>idx</th>\n",
       "      <th>edges</th>\n",
       "    </tr>\n",
       "  </thead>\n",
       "  <tbody>\n",
       "    <tr>\n",
       "      <th>0</th>\n",
       "      <td>1</td>\n",
       "      <td>[208, 134]</td>\n",
       "    </tr>\n",
       "    <tr>\n",
       "      <th>1</th>\n",
       "      <td>1</td>\n",
       "      <td>[14, 254, 51, 98]</td>\n",
       "    </tr>\n",
       "    <tr>\n",
       "      <th>2</th>\n",
       "      <td>1</td>\n",
       "      <td>[358]</td>\n",
       "    </tr>\n",
       "    <tr>\n",
       "      <th>3</th>\n",
       "      <td>1</td>\n",
       "      <td>[275, 254, 289]</td>\n",
       "    </tr>\n",
       "    <tr>\n",
       "      <th>4</th>\n",
       "      <td>1</td>\n",
       "      <td>[79, 44]</td>\n",
       "    </tr>\n",
       "  </tbody>\n",
       "</table>\n",
       "</div>"
      ],
      "text/plain": [
       "   idx              edges\n",
       "0    1         [208, 134]\n",
       "1    1  [14, 254, 51, 98]\n",
       "2    1              [358]\n",
       "3    1    [275, 254, 289]\n",
       "4    1           [79, 44]"
      ]
     },
     "execution_count": 2,
     "metadata": {},
     "output_type": "execute_result"
    }
   ],
   "source": [
    "file_path = \"../../data/raw/stex/stex.chg.tsv.gz\"\n",
    "site_ids = []\n",
    "tags = []\n",
    "\n",
    "# Open the gzipped file and read line by line\n",
    "with gzip.open(file_path, 'rt') as f:\n",
    "    # Read line by line\n",
    "    for line in tqdm(f, desc=\"Processing rows\"):\n",
    "        columns = list(map(int, line.strip().split(\"\\t\")))\n",
    "        site_ids.append(columns[0])  # First element\n",
    "        tags.append(columns[1:])  # Rest of the elements\n",
    "stex = pd.DataFrame({'idx': site_ids, 'edges': tags})\n",
    "stex.head()"
   ]
  },
  {
   "cell_type": "code",
   "execution_count": 3,
   "id": "cfbf24d4-c94c-4535-b556-13829ea2bf2e",
   "metadata": {},
   "outputs": [
    {
     "data": {
      "text/plain": [
       "array([80])"
      ]
     },
     "execution_count": 3,
     "metadata": {},
     "output_type": "execute_result"
    }
   ],
   "source": [
    "stex[stex[\"edges\"].str.len() > 5].idx.unique()"
   ]
  },
  {
   "cell_type": "code",
   "execution_count": 3,
   "id": "b77d2843-075b-4ad2-ac97-d5e3d06e2fd3",
   "metadata": {},
   "outputs": [],
   "source": [
    "nodes_per_graph = (\n",
    "    stex\n",
    "    .groupby(\"idx\")[\"edges\"]\n",
    "    .apply(lambda lists: len(set(chain.from_iterable(lists))))\n",
    "    .rename(\"num_nodes\")\n",
    "    .reset_index()\n",
    ")"
   ]
  },
  {
   "cell_type": "code",
   "execution_count": 7,
   "id": "fcde5c3b-41d1-4135-9384-8c7f8f16ef4a",
   "metadata": {},
   "outputs": [
    {
     "name": "stdout",
     "output_type": "stream",
     "text": [
      "# of graphs: 355\n",
      "average number of edges: 18844.2\n",
      "SD number of edges: 50323.4\n",
      "average number of nodes: 433.6\n",
      "SD number of nodes: 745.7\n",
      "max edge degree: 7\n",
      "percent of edges with degree 2: 29.4%\n"
     ]
    }
   ],
   "source": [
    "print(f\"# of graphs: {stex['idx'].nunique()}\")\n",
    "\n",
    "hyperedges = stex.edges.to_list()\n",
    "# average & SD of edges per graph\n",
    "edge_counts = stex.groupby('idx')['edges'].count()\n",
    "print(f\"average number of edges: {edge_counts.mean():.1f}\")\n",
    "print(f\"SD number of edges: {edge_counts.std(ddof=0):.1f}\")\n",
    "\n",
    "# average & SD of nodes per graph\n",
    "print(f\"average number of nodes: {nodes_per_graph['num_nodes'].mean():.1f}\")\n",
    "print(f\"SD number of nodes: {nodes_per_graph['num_nodes'].std(ddof=0):.1f}\")\n",
    "\n",
    "# max edge degree\n",
    "max_edge_deg = max(len(edge) for edge in stex['edges'])\n",
    "print(f\"max edge degree: {max_edge_deg}\")\n",
    "\n",
    "# percent of edges with degree == 2\n",
    "pct_deg2 = np.mean([len(edge) == 2 for edge in stex['edges']]) * 100\n",
    "print(f\"percent of edges with degree 2: {pct_deg2:.1f}%\")"
   ]
  },
  {
   "cell_type": "markdown",
   "id": "cbf4cfbf-f8a7-4c26-8638-d326e9263754",
   "metadata": {},
   "source": [
    "# Save"
   ]
  },
  {
   "cell_type": "code",
   "execution_count": 13,
   "id": "0e260daa-3d45-41ac-93d0-c9c4c9855057",
   "metadata": {},
   "outputs": [],
   "source": [
    "stex.to_pickle(\"./derived_data/stex.pkl\")"
   ]
  },
  {
   "cell_type": "code",
   "execution_count": 3,
   "id": "fddbbc6a-d6d6-4fd9-86e2-e5b02c923fdc",
   "metadata": {},
   "outputs": [],
   "source": [
    "# save each hypergraph as a tsv file for HORC computation\n",
    "for idx in stex['idx'].unique():\n",
    "    stex_data = stex[stex['idx'] == idx]\n",
    "    file_path = f\"derived_data/stex/stex_{idx}.tsv\"\n",
    "    edges = stex_data['edges'].apply(lambda x: '\\t'.join(map(str, x)))\n",
    "    # Write the graph to a .tsv file\n",
    "    with open(file_path, 'w') as f:\n",
    "        for edge in edges:\n",
    "            f.write(f\"{edge}\\n\")"
   ]
  },
  {
   "cell_type": "code",
   "execution_count": null,
   "id": "39e202a4-cc01-4663-9425-ce7c61ba8c5e",
   "metadata": {},
   "outputs": [],
   "source": []
  }
 ],
 "metadata": {
  "kernelspec": {
   "display_name": "Python 3 (ipykernel)",
   "language": "python",
   "name": "python3"
  },
  "language_info": {
   "codemirror_mode": {
    "name": "ipython",
    "version": 3
   },
   "file_extension": ".py",
   "mimetype": "text/x-python",
   "name": "python",
   "nbconvert_exporter": "python",
   "pygments_lexer": "ipython3",
   "version": "3.10.9"
  }
 },
 "nbformat": 4,
 "nbformat_minor": 5
}
