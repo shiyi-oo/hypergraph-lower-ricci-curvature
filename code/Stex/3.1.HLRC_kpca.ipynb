{
 "cells": [
  {
   "cell_type": "markdown",
   "id": "bc44f559-d7b2-4fb8-9f77-3ba64cf75595",
   "metadata": {},
   "source": [
    "# Stex"
   ]
  },
  {
   "cell_type": "code",
   "execution_count": 1,
   "id": "34b81e79-3a19-4bd7-9f20-79a191403939",
   "metadata": {},
   "outputs": [],
   "source": [
    "import pickle\n",
    "import pandas as pd"
   ]
  },
  {
   "cell_type": "code",
   "execution_count": 2,
   "id": "87143467-61cf-4d8d-a9bc-1b4347f170d5",
   "metadata": {},
   "outputs": [],
   "source": [
    "# load stex\n",
    "# stex = pd.read_pickle('derived_data/stex.pkl')\n",
    "\n",
    "# load hlrc\n",
    "with open('derived_data/hlrc.pkl', 'rb') as f:\n",
    "    hlrc = pickle.load(f)\n",
    "    \n",
    "# load hfrc\n",
    "with open('derived_data/hfrc.pkl', 'rb') as f:\n",
    "    hfrc = pickle.load(f)\n",
    "    \n",
    "# load site label\n",
    "labels = []\n",
    "with open(\"../../data/raw/stex/stex_site_id.txt\", \"r\") as f:\n",
    "    for line in f:\n",
    "        idx, label = line.strip().split(\"\\t\")\n",
    "        labels.append(label)"
   ]
  },
  {
   "cell_type": "markdown",
   "id": "e4c7307d-b70f-4f09-b548-2d0b527193b3",
   "metadata": {},
   "source": [
    "## KPCA"
   ]
  },
  {
   "cell_type": "code",
   "execution_count": 3,
   "id": "c43e7fd9-6214-48b0-a2fb-5e125b064c2b",
   "metadata": {},
   "outputs": [],
   "source": [
    "import glob\n",
    "import re\n",
    "\n",
    "import numpy as np\n",
    "import pandas as pd\n",
    "from sklearn.decomposition import KernelPCA\n",
    "from sklearn.metrics.pairwise import rbf_kernel\n",
    "from sklearn.preprocessing import scale\n",
    "import pymp\n",
    "\n",
    "import matplotlib.pyplot as plt\n",
    "from sklearn.cluster import KMeans\n",
    "from sklearn.metrics import adjusted_rand_score, adjusted_mutual_info_score\n",
    "\n",
    "plt.rcParams.update({\n",
    "    'font.family': 'sans-serif',\n",
    "    'font.size': 10,\n",
    "    'axes.titlesize': 12,\n",
    "    'axes.labelsize': 10,\n",
    "    'xtick.labelsize': 9,\n",
    "    'ytick.labelsize': 9,\n",
    "    'savefig.bbox': 'tight',\n",
    "    'savefig.transparent':True})\n",
    "\n",
    "def pmap(f, x, num_threads):\n",
    "    y = pymp.shared.list([None] * len(x))\n",
    "    with pymp.Parallel(num_threads) as p:\n",
    "        for i in p.range(len(x)):\n",
    "            y[i] = f(x[i])\n",
    "    return list(y)\n",
    "\n",
    "def _binning(C, bins):\n",
    "    def H(c):\n",
    "        h = np.histogram(c, bins)[0]\n",
    "        return h / sum(h)\n",
    "\n",
    "    return list(pmap(H, C, 64))\n",
    "\n",
    "\n",
    "def horc_histogram(C):\n",
    "    return _binning(C, [x / 100 for x in range(-200, 104, 5)])\n",
    "\n",
    "def hlrc_histogram(C):\n",
    "    return _binning(C, [x / 100 for x in range(-100, 104, 5)])\n",
    "\n",
    "\n",
    "def kpca(histogram, k):\n",
    "    pca = KernelPCA(n_components=k, kernel=\"precomputed\", tol=1e-5, max_iter=2000)\n",
    "    D = rbf_kernel(histogram)\n",
    "    embedding = pca.fit_transform(D)\n",
    "    \n",
    "    return embedding"
   ]
  },
  {
   "cell_type": "code",
   "execution_count": 35,
   "id": "6c0289ae-f064-4778-8b9e-20a04cf77103",
   "metadata": {},
   "outputs": [],
   "source": [
    "def plot_embed(embedding, labels, fig_output = None):\n",
    "    language = ['japanese', \"chinese\", 'italian', 'spanish', 'french', 'german', 'english', 'korean', 'rus', 'esperanto', 'conlang', 'latin', 'ukrainian', 'korean']\n",
    "    religions = ['islam', 'hinduism', 'buddhism', 'judaism', 'christianity']\n",
    "    nerds = ['rpg', 'scifi', 'boardgames', 'anime', 'gaming']\n",
    "    \n",
    "    religion_idx = [i for i, lbl in enumerate(labels) if lbl in religions]\n",
    "    language_idx = [i for i, lbl in enumerate(labels) if lbl in language]\n",
    "    nerds_idx = [i for i, lbl in enumerate(labels) if lbl in nerds]\n",
    "  \n",
    "    x = embedding[:, 0]\n",
    "    y = embedding[:, 1]\n",
    "\n",
    "    plt.figure(figsize=(4, 4))\n",
    "    if religion_idx:\n",
    "        plt.scatter(x[religion_idx], y[religion_idx], alpha=1, \n",
    "                    marker='^', color='#c1272d',label='Religion')\n",
    "    if language_idx:\n",
    "        plt.scatter(x[language_idx], y[language_idx], alpha=1,\n",
    "                    marker='*', color='#114684',label=\"Language\")\n",
    "    if nerds_idx:\n",
    "        plt.scatter(x[nerds_idx], y[nerds_idx], alpha=1,\n",
    "                    marker='o', color='#d4872f',label=\"Nerds\")\n",
    "\n",
    "    for i, label in enumerate(labels):\n",
    "        if label in religions:\n",
    "            txt_color = '#c1272d'\n",
    "        elif label in language:\n",
    "            txt_color = '#114684'\n",
    "        elif label in nerds:\n",
    "            txt_color = '#d4872f'\n",
    "        else: continue\n",
    "        \n",
    "        plt.annotate(label,\n",
    "                    (x[i], y[i]),\n",
    "                    textcoords=\"offset points\",  # position relative to the point\n",
    "                    xytext=(5, -2.5),               # offset in points\n",
    "                    fontsize=8,\n",
    "                    color=txt_color)\n",
    "    if fig_output:\n",
    "        plt.savefig(fig_output)\n",
    "    plt.legend()\n",
    "    plt.show()\n",
    "\n",
    "    religion_embed = embedding[religion_idx,:]\n",
    "    language_embed = embedding[language_idx,:]\n",
    "    nerds_embed = embedding[nerds_idx,:]\n",
    "    horc_node_embed = np.concatenate([religion_embed, language_embed, nerds_embed], axis=0)\n",
    "\n",
    "    # true label\n",
    "    religion_labels = np.zeros(len(religion_embed), dtype=int)\n",
    "    language_labels = np.ones(len(language_embed), dtype=int)\n",
    "    nerds_labels = np.full(len(nerds_embed), 2, dtype=int)\n",
    "    node_labels = np.concatenate([religion_labels, language_labels, nerds_labels], axis=0)\n",
    "\n",
    "    # kmeans\n",
    "    kmeans = KMeans(n_clusters=3, random_state=42)\n",
    "    predicted_labels = kmeans.fit_predict(horc_node_embed)\n",
    "\n",
    "    # Compute the Adjusted Rand Index (ARI)\n",
    "    ari_score = adjusted_rand_score(node_labels, predicted_labels)\n",
    "    ami_score = adjusted_mutual_info_score(node_labels, predicted_labels)\n",
    "    print(\"Adjusted Rand Index (ARI):\", ari_score)\n",
    "    print(\"Adjusted Mutual Info. (AMI):\", ami_score)"
   ]
  },
  {
   "cell_type": "markdown",
   "id": "bb4954e5-609b-40b9-b769-db150da58ce5",
   "metadata": {},
   "source": [
    "### HLRC"
   ]
  },
  {
   "cell_type": "code",
   "execution_count": 31,
   "id": "4c713292-5982-4e9f-9704-94e8de68db80",
   "metadata": {},
   "outputs": [],
   "source": [
    "hlrc_embed = kpca(hlrc_histogram(hlrc), 2)"
   ]
  },
  {
   "cell_type": "code",
   "execution_count": 36,
   "id": "4d744f44-9822-48b1-bab7-54a7a68677e7",
   "metadata": {},
   "outputs": [
    {
     "data": {
      "image/png": "[encoded data removed]",
      "text/plain": [
       "<Figure size 400x400 with 1 Axes>"
      ]
     },
     "metadata": {},
     "output_type": "display_data"
    },
    {
     "name": "stdout",
     "output_type": "stream",
     "text": [
      "Adjusted Rand Index (ARI): 0.5358727193889463\n",
      "Adjusted Mutual Info. (AMI): 0.43814336954114547\n"
     ]
    }
   ],
   "source": [
    "plot_embed(hlrc_embed, labels, fig_output = \"figures/Stex_HLRC_kpca.pdf\")"
   ]
  },
  {
   "cell_type": "markdown",
   "id": "5882fa99-aeea-4f85-9155-696e3c03cb2f",
   "metadata": {},
   "source": [
    "## Histogram Plot"
   ]
  },
  {
   "cell_type": "code",
   "execution_count": 4,
   "id": "82d16fbf-a530-4381-91c4-9122e1ad562f",
   "metadata": {},
   "outputs": [
    {
     "data": {
      "text/plain": [
       "355"
      ]
     },
     "execution_count": 4,
     "metadata": {},
     "output_type": "execute_result"
    }
   ],
   "source": [
    "len(hlrc)"
   ]
  },
  {
   "cell_type": "code",
   "execution_count": null,
   "id": "99fad630-2f83-448e-add0-8bfc17864ed5",
   "metadata": {},
   "outputs": [],
   "source": []
  }
 ],
 "metadata": {
  "kernelspec": {
   "display_name": "Python 3 (ipykernel)",
   "language": "python",
   "name": "python3"
  },
  "language_info": {
   "codemirror_mode": {
    "name": "ipython",
    "version": 3
   },
   "file_extension": ".py",
   "mimetype": "text/x-python",
   "name": "python",
   "nbconvert_exporter": "python",
   "pygments_lexer": "ipython3",
   "version": "3.10.9"
  }
 },
 "nbformat": 4,
 "nbformat_minor": 5
}
