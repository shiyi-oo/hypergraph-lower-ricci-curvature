{
 "cells": [
  {
   "cell_type": "markdown",
   "id": "7a0ce2ef-2088-4833-9641-7e682e2d70f9",
   "metadata": {},
   "source": [
    "# Stex"
   ]
  },
  {
   "cell_type": "code",
   "execution_count": 1,
   "id": "0592e20d-8e7f-4ecb-99ab-8909ee28bc4a",
   "metadata": {},
   "outputs": [
    {
     "data": {
      "text/html": [
       "<div>\n",
       "<style scoped>\n",
       "    .dataframe tbody tr th:only-of-type {\n",
       "        vertical-align: middle;\n",
       "    }\n",
       "\n",
       "    .dataframe tbody tr th {\n",
       "        vertical-align: top;\n",
       "    }\n",
       "\n",
       "    .dataframe thead th {\n",
       "        text-align: right;\n",
       "    }\n",
       "</style>\n",
       "<table border=\"1\" class=\"dataframe\">\n",
       "  <thead>\n",
       "    <tr style=\"text-align: right;\">\n",
       "      <th></th>\n",
       "      <th>idx</th>\n",
       "      <th>edges</th>\n",
       "    </tr>\n",
       "  </thead>\n",
       "  <tbody>\n",
       "    <tr>\n",
       "      <th>0</th>\n",
       "      <td>1</td>\n",
       "      <td>[208, 134]</td>\n",
       "    </tr>\n",
       "    <tr>\n",
       "      <th>1</th>\n",
       "      <td>1</td>\n",
       "      <td>[14, 254, 51, 98]</td>\n",
       "    </tr>\n",
       "    <tr>\n",
       "      <th>2</th>\n",
       "      <td>1</td>\n",
       "      <td>[358]</td>\n",
       "    </tr>\n",
       "    <tr>\n",
       "      <th>3</th>\n",
       "      <td>1</td>\n",
       "      <td>[275, 254, 289]</td>\n",
       "    </tr>\n",
       "    <tr>\n",
       "      <th>4</th>\n",
       "      <td>1</td>\n",
       "      <td>[79, 44]</td>\n",
       "    </tr>\n",
       "  </tbody>\n",
       "</table>\n",
       "</div>"
      ],
      "text/plain": [
       "   idx              edges\n",
       "0    1         [208, 134]\n",
       "1    1  [14, 254, 51, 98]\n",
       "2    1              [358]\n",
       "3    1    [275, 254, 289]\n",
       "4    1           [79, 44]"
      ]
     },
     "execution_count": 1,
     "metadata": {},
     "output_type": "execute_result"
    }
   ],
   "source": [
    "import pandas as pd\n",
    "stex = pd.read_pickle(\"./derived_data/stex.pkl\")\n",
    "stex.head()"
   ]
  },
  {
   "cell_type": "markdown",
   "id": "d1473fdf-389e-4ebf-8f61-61bd35b79153",
   "metadata": {},
   "source": [
    "# Computate HLRC and HFRC"
   ]
  },
  {
   "cell_type": "code",
   "execution_count": 4,
   "id": "f7e54d19-3d55-4d8c-88d0-d5a17c6b642d",
   "metadata": {},
   "outputs": [],
   "source": [
    "import sys\n",
    "import os\n",
    "sys.path.append(os.path.abspath('/work/users/s/h/shiyi/hypergraph_with_curvature/code/src'))\n",
    "from hlrc import compute_hlrc\n",
    "from hfrc import compute_hfrc\n",
    "from util import *\n",
    "\n",
    "import time\n",
    "from tqdm import tqdm"
   ]
  },
  {
   "cell_type": "code",
   "execution_count": 5,
   "id": "ce74b332-f8e2-4eb7-a053-ff19511c7e62",
   "metadata": {},
   "outputs": [
    {
     "name": "stderr",
     "output_type": "stream",
     "text": [
      "Processing sites: 100%|██████████| 355/355 [03:11<00:00,  1.85it/s]"
     ]
    },
    {
     "name": "stdout",
     "output_type": "stream",
     "text": [
      "HLRC: elapsed 191.9603 seconds\n"
     ]
    },
    {
     "name": "stderr",
     "output_type": "stream",
     "text": [
      "\n"
     ]
    }
   ],
   "source": [
    "idxs = stex['idx'].unique()\n",
    "# HLRC\n",
    "t0 = time.time()\n",
    "hlrc_per_graph = []\n",
    "for idx in tqdm(idxs, desc=\"Processing sites\"):\n",
    "    edges = stex.loc[stex['idx'] == idx, 'edges'].tolist()\n",
    "    hlrc_vals = compute_hlrc(edges)\n",
    "    hlrc_per_graph.append(np.array(hlrc_vals, dtype=float))\n",
    "t1 = time.time()\n",
    "print(f\"HLRC: elapsed {t1 - t0:.4f} seconds\")"
   ]
  },
  {
   "cell_type": "code",
   "execution_count": 8,
   "id": "94860e60-cfe0-4707-a4b4-42251d67a124",
   "metadata": {},
   "outputs": [
    {
     "data": {
      "text/plain": [
       "(355,)"
      ]
     },
     "execution_count": 8,
     "metadata": {},
     "output_type": "execute_result"
    }
   ],
   "source": [
    "hlrc_array = np.array(hlrc_per_graph, dtype=object)\n",
    "hlrc_array.shape"
   ]
  },
  {
   "cell_type": "code",
   "execution_count": 12,
   "id": "d911b27d-a285-4d99-a34f-eda598cf2ac2",
   "metadata": {},
   "outputs": [
    {
     "name": "stderr",
     "output_type": "stream",
     "text": [
      "Processing sites: 100%|██████████| 355/355 [00:09<00:00, 35.81it/s]"
     ]
    },
    {
     "name": "stdout",
     "output_type": "stream",
     "text": [
      "HFRC: elapsed 9.9151 seconds\n"
     ]
    },
    {
     "name": "stderr",
     "output_type": "stream",
     "text": [
      "\n"
     ]
    }
   ],
   "source": [
    "# HFRC\n",
    "t0 = time.time()\n",
    "hfrc_per_graph = []\n",
    "for idx in tqdm(idxs, desc=\"Processing sites\"):\n",
    "    edges = stex.loc[stex['idx'] == idx, 'edges'].tolist()\n",
    "    hfrc_vals = compute_hfrc(edges)\n",
    "    hfrc_per_graph.append(np.array(hfrc_vals, dtype=float))\n",
    "t1 = time.time()\n",
    "print(f\"HFRC: elapsed {t1 - t0:.4f} seconds\")"
   ]
  },
  {
   "cell_type": "code",
   "execution_count": 13,
   "id": "08e577b1-aea1-46e7-a663-09529d40723c",
   "metadata": {},
   "outputs": [
    {
     "data": {
      "text/plain": [
       "(355,)"
      ]
     },
     "execution_count": 13,
     "metadata": {},
     "output_type": "execute_result"
    }
   ],
   "source": [
    "hfrc_array = np.array(hfrc_per_graph, dtype=object)\n",
    "hfrc_array.shape"
   ]
  },
  {
   "cell_type": "markdown",
   "id": "5d8b1525-0f32-4ce5-ac03-2cebf5308784",
   "metadata": {},
   "source": [
    "## Save"
   ]
  },
  {
   "cell_type": "code",
   "execution_count": 14,
   "id": "af56ddd6-002d-418a-9867-100aba0b277c",
   "metadata": {},
   "outputs": [],
   "source": [
    "import pickle\n",
    "with open('derived_data/hlrc.pkl', 'wb') as f:\n",
    "    pickle.dump(hlrc_array, f)\n",
    "    \n",
    "with open('derived_data/hfrc.pkl', 'wb') as f:\n",
    "    pickle.dump(hfrc_array, f)"
   ]
  },
  {
   "cell_type": "code",
   "execution_count": null,
   "id": "a55b996d-889f-4a1c-a71e-b65967d93a3f",
   "metadata": {},
   "outputs": [],
   "source": []
  }
 ],
 "metadata": {
  "kernelspec": {
   "display_name": "Python 3 (ipykernel)",
   "language": "python",
   "name": "python3"
  },
  "language_info": {
   "codemirror_mode": {
    "name": "ipython",
    "version": 3
   },
   "file_extension": ".py",
   "mimetype": "text/x-python",
   "name": "python",
   "nbconvert_exporter": "python",
   "pygments_lexer": "ipython3",
   "version": "3.10.9"
  }
 },
 "nbformat": 4,
 "nbformat_minor": 5
}
